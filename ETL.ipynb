{
 "cells": [
  {
   "cell_type": "code",
   "execution_count": 32,
   "id": "94b4a904",
   "metadata": {},
   "outputs": [],
   "source": [
    "import pandas as pd\n",
    "import numpy as np\n",
    "import matplotlib.pyplot as plt\n",
    "import geopandas as gpd\n",
    "import plotly.express as px\n",
    "\n",
    "portugal_districts = {\n",
    "    '01': 'Aveiro',\n",
    "    '02': 'Beja',\n",
    "    '03': 'Braga',\n",
    "    '04': 'Bragança',\n",
    "    '05': 'Castelo Branco',\n",
    "    '06': 'Coimbra',\n",
    "    '07': 'Évora',\n",
    "    '08': 'Faro',\n",
    "    '09': 'Guarda',\n",
    "    '10': 'Leiria',\n",
    "    '11': 'Lisboa',\n",
    "    '12': 'Portalegre',\n",
    "    '13': 'Porto',\n",
    "    '14': 'Santarém',\n",
    "    '15': 'Setúbal',\n",
    "    '16': 'Viana do Castelo',\n",
    "    '17': 'Vila Real',\n",
    "    '18': 'Viseu',\n",
    "    '31': 'Madeira',\n",
    "    '32': 'Madeira',\n",
    "    '41': 'Açores',\n",
    "    '42': 'Açores',\n",
    "    '43': 'Açores',\n",
    "    '44': 'Açores',\n",
    "    '45': 'Açores',\n",
    "    '46': 'Açores',\n",
    "    '47': 'Açores',\n",
    "    '48': 'Açores',\n",
    "    '49': 'Açores'\n",
    "}\n",
    "\n",
    "pd.set_option('display.max_rows', 20)\n",
    "\n",
    "nac21 = pd.read_excel('dados/dados_INE.xlsx', sheet_name=\"Nacionalidade2021\", converters={'MUNICIPIO':str,'FREGUESIA':str}, skiprows=[0])\n",
    "nac11 = pd.read_excel('dados/dados_INE.xlsx', sheet_name=\"Nacionalidade2011\", converters={'MUNICIPIO_CAOP2013':str,'FREGUESIA_CAOP2013':str}, skiprows=[0])\n",
    "nac01 = pd.read_excel('dados/dados_INE.xlsx', sheet_name=\"Nacionalidade2001\", converters={'CONCELHO_EU02':str,'FREGUESIA_EU02':str}, skiprows=[0])\n",
    "tipologias2014 = pd.read_excel('dados/tipologias2014.xlsx').rename(columns={\"Código\": \"FREGUESIA\"}).set_index(\"FREGUESIA\")\n",
    "corr_xlsx = pd.read_excel('dados/corr/correspondencias.xlsx', converters={'cod_old':str,'cod_new':str})\n",
    "corr = dict(zip(corr_xlsx.cod_old,corr_xlsx.cod_new))\n",
    "corr_dsg = dict(zip(corr_xlsx.dsg_old,corr_xlsx.dsg_new))\n",
    "\n",
    "nac21 = nac21[(nac21[\"FREGUESIA\"] != '000000') & (nac21[\"GRUPO ETÁRIO\"] == \"2 18 ou mais anos\")]\n",
    "nac21 = nac21.rename(columns={\"Designação CAOP2013\": \"FF_DSG\", \"Portuguesa\":\"PT\", \"Estrangeira\":\"EST\", \"Apátrida\":\"APA\", \"Total\":\"TOTAL\"})\n",
    "nac21 = nac21[[\"CC_DSG\", \"FREGUESIA\", \"FF_DSG\", \"TOTAL\", \"PT\"]].set_index(\"FREGUESIA\")\n",
    "\n",
    "nac11 = nac11[(nac11[\"FREGUESIA_CAOP2013\"] != '000000') & (nac11[\"GRUPO ETÁRIO\"] == \"2 18 ou mais anos\")]\n",
    "nac11 = nac11.rename(columns={\"Designação CAOP2013\": \"FF_DSG\", \"FREGUESIA_CAOP2013\": \"FREGUESIA\", \"Portuguesa\":\"PT\", \"Estrangeira\":\"EST\", \"Apátrida\":\"APA\", \"Total\":\"TOTAL\"})\n",
    "nac11 = nac11[[\"CC_DSG\", \"FREGUESIA\", \"FF_DSG\", \"TOTAL\", \"PT\"]].set_index(\"FREGUESIA\")\n",
    "\n",
    "nac01 = nac01[(nac01[\"FREGUESIA_EU02\"] != '000000') & (nac01[\"GRUPO ETÁRIO\"] == \"2 18 ou mais anos\")]\n",
    "nac01 = nac01.rename(columns={\"FREGUESIA_EU02\": \"FREGUESIA\", \"Portuguesa\":\"PT\", \"Estrangeira\":\"EST\", \"Apátrida\":\"APA\", \"Total\":\"TOTAL\"})\n",
    "nac01[\"FREGUESIA\"] = nac01[\"FREGUESIA\"].map(corr)\n",
    "nac01[\"FF_DSG\"] = nac01[\"FF_DSG\"].map(corr_dsg)\n",
    "nac01 = nac01.groupby('FREGUESIA').agg({'CC_DSG': 'first', \"FF_DSG\": 'first', 'TOTAL': 'sum', 'PT': 'sum', 'EST': 'sum', 'APA': 'sum'})\n",
    "nac01 = nac01[[\"CC_DSG\", \"FF_DSG\", \"TOTAL\", \"PT\"]]\n",
    "\n",
    "nac11 = nac11.drop(['FF_DSG', 'CC_DSG'], axis=1)\n",
    "nac01 = nac01.drop(['FF_DSG', 'CC_DSG'], axis=1)\n",
    "nac21 = nac21.rename(columns={\"TOTAL\":\"TOTAL_INE_21\", \"PT\":\"PT_INE_21\"})\n",
    "nac11 = nac11.add_suffix('_INE_11')\n",
    "nac01 = nac01.add_suffix('_INE_01')\n",
    "\n",
    "tipologias2014 = tipologias2014.drop(\"Designação\", axis=1)\n",
    "tipologias2014[\"Distrito\"] = tipologias2014.index.map(lambda x: portugal_districts.get(x[:2], 'Unknown'))\n",
    "\n",
    "# join the dataframes on the index\n",
    "populacao = tipologias2014.merge(nac21, left_index=True, right_index=True).merge(nac11, left_index=True, right_index=True).merge(nac01, left_index=True, right_index=True)\n",
    "\n",
    "#MAI\n",
    "ele21 = pd.read_excel(\"dados/MAI/BDRE_Contagem_Eleitores_20211231.xlsx\", sheet_name=\"Freguesia_Consulado\", converters={'Código':str, \"NAC\":int, \"UE\": int, \"ER\":int,\"TOTAL\":int}).rename(columns={\"Código\":\"FREGUESIA\"}).set_index(\"FREGUESIA\")\n",
    "ele11 = pd.read_excel(\"dados/MAI/BDRE_Contagem_Eleitores_20111231.xls\", sheet_name=\"Freguesia_Consulado\", converters={'Código':str, \"NAC\":int, \"UE\": int, \"ER\":int,\"TOTAL\":int}).rename(columns={\"Código\":\"FREGUESIA\"})\n",
    "ele11[\"FREGUESIA\"] = ele11[\"FREGUESIA\"].map(corr)\n",
    "ele11 = ele11[ele11[\"Nac\"]>0]\n",
    "ele11 = ele11.groupby('FREGUESIA').agg({'Nome': 'first', 'Nac': 'sum', 'UE': 'sum', 'ER': 'sum', 'CNREUE': 'sum', 'CNRE':'sum', \"TOTAL\":'sum'})\n",
    "\n",
    "ele21 = ele21.drop([\"Distrito/Ilha/Continente > Concelho/País > Freguesia/Consulado\", \"UE\", \"ER\"], axis=1)\n",
    "ele21 = ele21.rename(columns={\"TOTAL\":\"TOTAL_MAI_21\", \"NAC\":\"PT_MAI_21\"})\n",
    "ele11 = ele11.drop([\"Nome\", \"UE\", \"ER\", \"CNREUE\", \"CNRE\"], axis=1)\n",
    "ele11 = ele11.rename(columns={\"TOTAL\":\"TOTAL_MAI_11\", \"Nac\":\"PT_MAI_11\"})\n",
    "\n",
    "mai = ele21.merge(ele11,left_index=True, right_index=True)\n",
    "\n",
    "#Comparacao\n",
    "comp = populacao.merge(mai, left_index=True, right_index=True)\n",
    "comp = comp.drop([\"TOTAL_INE_21\", \"TOTAL_INE_11\", \"TOTAL_INE_01\", \"TOTAL_MAI_21\", \"TOTAL_MAI_11\"], axis = 1)\n",
    "\n",
    "comp[\"diff_abs_21\"] = comp[\"PT_MAI_21\"] - comp[\"PT_INE_21\"]\n",
    "comp[\"diff_abs_21\"] = comp[\"diff_abs_21\"].astype(float)\n",
    "comp[\"diff_abs_11\"] = comp[\"PT_MAI_11\"] - comp[\"PT_INE_11\"]\n",
    "comp[\"diff_rel_21\"] = comp[\"diff_abs_21\"] / comp[\"PT_INE_21\"] * 100\n",
    "comp[\"diff_rel_11\"] = comp[\"diff_abs_11\"] / comp[\"PT_INE_11\"] * 100\n",
    "comp['diff_rel_21'] = comp['diff_rel_21'].astype(float).round(1)\n",
    "comp['diff_rel_11'] = comp['diff_rel_11'].astype(float).round(1)\n",
    "comp_APU = comp[comp[\"TIPAU\"] == \"APU\"]\n",
    "comp_AMU = comp[comp[\"TIPAU\"] == \"AMU\"]\n",
    "comp_APR = comp[comp[\"TIPAU\"] == \"APR\"]\n",
    "\n",
    "def print_mapa(var=\"diff_rel_21\", ano = 2021):\n",
    "    district_stats = comp.groupby('Distrito')[var].apply(lambda x: pd.Series({'weighted_mean_diff': (x * comp.loc[x.index, 'PT_INE_21']).sum() / comp.loc[x.index, 'PT_INE_21'].sum()}))\n",
    "    district_stats = pd.DataFrame(district_stats).reset_index().drop(columns=[\"level_1\"]).set_index(\"Distrito\")\n",
    "\n",
    "    mapa = gpd.read_file('PRT_adm1.shp')\n",
    "    mapa = mapa.replace({\"Azores\":\"Açores\"})\n",
    "    mapa = mapa.merge(district_stats, left_on='NAME_1', right_index=True)\n",
    "\n",
    "    # Create the map\n",
    "    fig, ax = plt.subplots(figsize=(12, 8))\n",
    "    mapa.plot(column=var, cmap='OrRd', legend=True, ax=ax)\n",
    "    ax.set_title('Erro relativo médio por distrito (poderado) ' + str(ano), fontsize=16)\n",
    "    ax.set_axis_off()\n",
    "\n",
    "    # Add labels to the map with the average population for each district\n",
    "    for idx, row in mapa.iterrows():\n",
    "        plt.annotate(text=f\"{row[var]:.0f}\", xy=row['geometry'].centroid.coords[0], horizontalalignment='center', fontsize=15)\n",
    "    plt.show()\n",
    "    \n",
    "def print_boxplot(var = \"diff_rel_21\", titulo = \"Erro relativo p/tipo - 2021\"):\n",
    "    data = [comp[var], comp_APU[var], comp_AMU[var], comp_APR[var]]\n",
    "\n",
    "    # Plot the boxplots\n",
    "    fig, ax = plt.subplots()\n",
    "    boxplots = ax.boxplot(data)\n",
    "\n",
    "    # Add x-axis labels\n",
    "    ax.set_title(titulo)\n",
    "    ax.set_xticklabels(['Todas', \"APU\", \"AMU\", \"APR\"])\n",
    "    ax.set_ylabel(\"%\")\n",
    "    ax.set_ylim([-80, 180])\n",
    "    # Show the plot\n",
    "    plt.show()"
   ]
  },
  {
   "cell_type": "code",
   "execution_count": 36,
   "id": "f02742ba",
   "metadata": {},
   "outputs": [
    {
     "data": {
      "application/vnd.plotly.v1+json": {
       "config": {
        "plotlyServerURL": "https://plot.ly"
       },
       "data": [
        {
         "customdata": [
          [
           "Aguiã",
           871
          ],
          [
           "Paçô",
           1044
          ],
          [
           "União das freguesias de Arcos de Valdevez (São Paio) e Giela",
           1826
          ],
          [
           "União das freguesias de Arcos de Valdevez (Salvador), Vila Fonche e Parada",
           2459
          ],
          [
           "União das freguesias de Guilhadeses e Santar",
           1173
          ],
          [
           "Âncora",
           1091
          ],
          [
           "União das freguesias de Caminha (Matriz) e Vilarelho",
           2519
          ],
          [
           "União das freguesias de Venade e Azevedo",
           979
          ],
          [
           "Vila Praia de Âncora",
           4949
          ],
          [
           "Paderne",
           1511
          ],
          [
           "União das freguesias de Prado e Remoães",
           661
          ],
          [
           "Bela",
           748
          ],
          [
           "União das freguesias de Mazedo e Cortes",
           2843
          ],
          [
           "União das freguesias de Monção e Troviscoso",
           3612
          ],
          [
           "Segude",
           452
          ],
          [
           "União das freguesias de Ponte da Barca, Vila Nova de Muía e Paço Vedro de Magalhães",
           4385
          ],
          [
           "Arcozelo",
           3423
          ],
          [
           "Bertiandos",
           410
          ],
          [
           "Correlhã",
           2657
          ],
          [
           "Feitosa",
           935
          ],
          [
           "Fontão",
           1058
          ],
          [
           "Santa Comba",
           535
          ],
          [
           "Arca e Ponte de Lima",
           3457
          ],
          [
           "Ganfei",
           1201
          ],
          [
           "União das freguesias de Valença, Cristelo Covo e Arão",
           4787
          ],
          [
           "Alvarães",
           2939
          ],
          [
           "União das freguesias de Barroselas e Carvoeiro",
           5107
          ],
          [
           "Castelo do Neiva",
           3470
          ],
          [
           "Chafé",
           3017
          ],
          [
           "Areosa",
           4406
          ],
          [
           "Darque",
           7305
          ],
          [
           "Santa Marta de Portuzelo",
           3645
          ],
          [
           "União das freguesias de Viana do Castelo (Santa Maria Maior e Monserrate) e Meadela",
           23372
          ],
          [
           "Vila de Punhe",
           2446
          ],
          [
           "Gondarém",
           978
          ],
          [
           "Loivo",
           911
          ],
          [
           "União das freguesias de Campos e Vila Meã",
           1426
          ],
          [
           "União das freguesias de Reboreda e Nogueira",
           950
          ],
          [
           "União das freguesias de Vila Nova de Cerveira e Lovelhe",
           1882
          ],
          [
           "União das freguesias de Amares e Figueiredo",
           2754
          ],
          [
           "União das freguesias de Ferreiros, Prozelo e Besteiros",
           4378
          ],
          [
           "Lago",
           1797
          ],
          [
           "Balugães",
           777
          ],
          [
           "Alvelos",
           1909
          ],
          [
           "Arcozelo",
           10543
          ],
          [
           "Barcelinhos",
           1652
          ],
          [
           "Carapeços",
           1932
          ],
          [
           "Carvalhal",
           1295
          ],
          [
           "Lijó",
           2032
          ],
          [
           "Manhente",
           1658
          ],
          [
           "Rio Covo (Santa Eugénia)",
           1378
          ],
          [
           "Galegos (Santa Maria)",
           2552
          ],
          [
           "Galegos (São Martinho)",
           1784
          ],
          [
           "Tamel (São Veríssimo)",
           2724
          ],
          [
           "Várzea",
           1536
          ],
          [
           "União das freguesias de Barcelos, Vila Boa e Vila Frescainha (São Martinho e São Pedro)",
           9813
          ],
          [
           "Martim",
           2062
          ],
          [
           "Esporões",
           1567
          ],
          [
           "Figueiredo",
           1073
          ],
          [
           "Gualtar",
           4242
          ],
          [
           "Lamas",
           647
          ],
          [
           "Mire de Tibães",
           2214
          ],
          [
           "Padim da Graça",
           1518
          ],
          [
           "Palmeira",
           4982
          ],
          [
           "Ruilhe",
           1091
          ],
          [
           "Braga (São Vicente)",
           10480
          ],
          [
           "Braga (São Vítor)",
           23261
          ],
          [
           "Tadim",
           948
          ],
          [
           "União das freguesias de Braga (Maximinos, Sé e Cividade)",
           13480
          ],
          [
           "União das freguesias de Braga (São José de São Lázaro e São João do Souto)",
           13161
          ],
          [
           "União das freguesias de Cabreiros e Passos (São Julião)",
           2185
          ],
          [
           "União das freguesias de Celeirós, Aveleda e Vimieiro",
           5955
          ],
          [
           "União das freguesias de Este (São Pedro e São Mamede)",
           3476
          ],
          [
           "União das freguesias de Ferreiros e Gondizalves",
           7677
          ],
          [
           "União das freguesias de Lomar e Arcos",
           5490
          ],
          [
           "União das freguesias de Merelim (São Paio), Panoias e Parada de Tibães",
           4278
          ],
          [
           "União das freguesias de Merelim (São Pedro) e Frossos",
           3474
          ],
          [
           "União das freguesias de Morreira e Trandeiras",
           1384
          ],
          [
           "União das freguesias de Nogueira, Fraião e Lamaçães",
           11325
          ],
          [
           "União das freguesias de Nogueiró e Tenões",
           3713
          ],
          [
           "União das freguesias de Real, Dume e Semelhe",
           9534
          ],
          [
           "União das freguesias de Vilaça e Fradelos",
           1505
          ],
          [
           "Antas",
           2123
          ],
          [
           "Forjães",
           2567
          ],
          [
           "Gemeses",
           1124
          ],
          [
           "Vila Chã",
           1561
          ],
          [
           "União das freguesias de Apúlia e Fão",
           7104
          ],
          [
           "União das freguesias de Belinho e Mar",
           2217
          ],
          [
           "União das freguesias de Esposende, Marinhas e Gandra",
           11748
          ],
          [
           "União das freguesias de Fonte Boa e Rio Tinto",
           1798
          ],
          [
           "União das freguesias de Palmeira de Faro e Curvos",
           3030
          ],
          [
           "Lage",
           2482
          ],
          [
           "Loureira",
           1072
          ],
          [
           "Vila de Prado",
           4134
          ],
          [
           "Turiz",
           1538
          ],
          [
           "Vila Verde e Barbudo",
           6088
          ],
          [
           "Fafe",
           14710
          ],
          [
           "Fornelos",
           1392
          ],
          [
           "Golães",
           2150
          ],
          [
           "Medelo",
           1285
          ],
          [
           "Arões (Santa Cristina)",
           1270
          ],
          [
           "Arões (São Romão)",
           3114
          ],
          [
           "Guardizela",
           2133
          ],
          [
           "Serzedelo",
           3492
          ],
          [
           "Aldão",
           1161
          ],
          [
           "Azurém",
           7599
          ],
          [
           "Brito",
           4198
          ],
          [
           "Costa",
           3489
          ],
          [
           "Creixomil",
           8173
          ],
          [
           "Fermentões",
           4657
          ],
          [
           "Gondar",
           2556
          ],
          [
           "Lordelo",
           3870
          ],
          [
           "Mesão Frio",
           3785
          ],
          [
           "Moreira de Cónegos",
           4632
          ],
          [
           "Nespereira",
           2331
          ],
          [
           "Pencelo",
           1130
          ],
          [
           "Pinheiro",
           1057
          ],
          [
           "Polvoreira",
           3388
          ],
          [
           "Ponte",
           5608
          ],
          [
           "Ronfe",
           4110
          ],
          [
           "Selho (São Cristóvão)",
           2186
          ],
          [
           "Selho (São Jorge)",
           5148
          ],
          [
           "Candoso (São Martinho)",
           1267
          ],
          [
           "Silvares",
           2017
          ],
          [
           "Urgezes",
           4781
          ],
          [
           "União das freguesias de Abação e Gémeos",
           2303
          ],
          [
           "União das freguesias de Airão Santa Maria, Airão São João e Vermil",
           3442
          ],
          [
           "União das freguesias de Candoso São Tiago e Mascotelos",
           2888
          ],
          [
           "União das freguesias de Conde e Gandarela",
           2192
          ],
          [
           "União das freguesias de Oliveira, São Paio e São Sebastião",
           8209
          ],
          [
           "União das freguesias de Sande Vila Nova e Sande São Clemente",
           3255
          ],
          [
           "União das freguesias de Selho São Lourenço e Gominhães",
           2101
          ],
          [
           "União das freguesias de Serzedo e Calvos",
           2069
          ],
          [
           "União das freguesias de Tabuadelo e São Faustino",
           2307
          ],
          [
           "Barco",
           1320
          ],
          [
           "Caldelas",
           5609
          ],
          [
           "Prazins (Santa Eufémia)",
           1126
          ],
          [
           "Sande (São Martinho)",
           2641
          ],
          [
           "Póvoa de Lanhoso (Nossa Senhora do Amparo)",
           5069
          ],
          [
           "Joane",
           6812
          ],
          [
           "Mogege",
           1752
          ],
          [
           "Pousada de Saramagos",
           1987
          ],
          [
           "Lousado",
           3419
          ],
          [
           "Ribeirão",
           7388
          ],
          [
           "Bairro",
           3320
          ],
          [
           "Castelões",
           1713
          ],
          [
           "Delães",
           3672
          ],
          [
           "Landim",
           2758
          ],
          [
           "Pedome",
           2120
          ],
          [
           "Riba de Ave",
           3238
          ],
          [
           "Oliveira (Santa Maria)",
           3269
          ],
          [
           "Oliveira (São Mateus)",
           2455
          ],
          [
           "União das freguesias de Avidos e Lagoa",
           2257
          ],
          [
           "União das freguesias de Carreira e Bente",
           2527
          ],
          [
           "União das freguesias de Ruivães e Novais",
           2902
          ],
          [
           "União das freguesias de Seide",
           1462
          ],
          [
           "Brufe",
           2045
          ],
          [
           "Gavião",
           3448
          ],
          [
           "Nine",
           2536
          ],
          [
           "Requião",
           2830
          ],
          [
           "Vale (São Martinho)",
           1799
          ],
          [
           "Vermoim",
           2693
          ],
          [
           "União das freguesias de Antas e Abade de Vermoim",
           5480
          ],
          [
           "União das freguesias de Arnoso (Santa Maria e Santa Eulália) e Sezures",
           3165
          ],
          [
           "União das freguesias de Esmeriz e Cabeçudos",
           3035
          ],
          [
           "União das freguesias de Vale (São Cosme), Telhado e Portela",
           4797
          ],
          [
           "União das freguesias de Vila Nova de Famalicão e Calendário",
           17103
          ],
          [
           "Santa Eulália",
           4628
          ],
          [
           "Infias",
           1569
          ],
          [
           "Vizela (Santo Adrião)",
           2022
          ],
          [
           "União das freguesias de Caldas de Vizela (São Miguel e São João)",
           9454
          ],
          [
           "União das freguesias de Tagilde e Vizela (São Paio)",
           2771
          ],
          [
           "Reguenga",
           1375
          ],
          [
           "União das freguesias de Areias, Sequeiró, Lama e Palmeira",
           6290
          ],
          [
           "União das freguesias de Santo Tirso, Couto (Santa Cristina e São Miguel) e Burgães",
           19179
          ],
          [
           "Aves",
           7795
          ],
          [
           "Rebordões",
           3196
          ],
          [
           "Roriz",
           3442
          ],
          [
           "Negrelos (São Tomé)",
           3558
          ],
          [
           "Vilarinho",
           3344
          ],
          [
           "União das freguesias de Campo (São Martinho), São Salvador do Campo e Negrelos (São Mamede)",
           6113
          ],
          [
           "União das freguesias de Bougado (São Martinho e Santiago)",
           18546
          ],
          [
           "União das freguesias de Coronado (São Romão e São Mamede)",
           7620
          ],
          [
           "Espinho",
           10578
          ],
          [
           "Paramos",
           3305
          ],
          [
           "Silvalde",
           6215
          ],
          [
           "União das freguesias de Anta e Guetim",
           10972
          ],
          [
           "União das freguesias de Gondomar (São Cosme), Valbom e Jovim",
           41520
          ],
          [
           "Rio Tinto",
           42952
          ],
          [
           "Baguim do Monte (Rio Tinto)",
           11971
          ],
          [
           "União das freguesias de Fânzeres e São Pedro da Cova",
           33026
          ],
          [
           "Águas Santas",
           21697
          ],
          [
           "Milheirós",
           3954
          ],
          [
           "Moreira",
           10162
          ],
          [
           "São Pedro Fins",
           1658
          ],
          [
           "Vila Nova da Telha",
           4917
          ],
          [
           "Pedrouços",
           9847
          ],
          [
           "Castêlo da Maia",
           25432
          ],
          [
           "Cidade da Maia",
           22698
          ],
          [
           "Nogueira e Silva Escura",
           6586
          ],
          [
           "União das freguesias de Custóias, Leça do Balio e Guifões",
           36339
          ],
          [
           "União das freguesias de Matosinhos e Leça da Palmeira",
           43314
          ],
          [
           "União das freguesias de Perafita, Lavra e Santa Cruz do Bispo",
           25589
          ],
          [
           "União das freguesias de São Mamede de Infesta e Senhora da Hora",
           43232
          ],
          [
           "Bonfim",
           23855
          ],
          [
           "Campanhã",
           31609
          ],
          [
           "Paranhos",
           41570
          ],
          [
           "Ramalde",
           32619
          ],
          [
           "União das freguesias de Aldoar, Foz do Douro e Nevogilde",
           26303
          ],
          [
           "União das freguesias de Cedofeita, Santo Ildefonso, Sé, Miragaia, São Nicolau e Vitória",
           42128
          ],
          [
           "União das freguesias de Lordelo do Ouro e Massarelos",
           25399
          ],
          [
           "União das freguesias de Aver-o-Mar, Amorim e Terroso",
           12024
          ],
          [
           "União das freguesias de Aguçadoura e Navais",
           5744
          ],
          [
           "União das freguesias da Póvoa de Varzim, Beiriz e Argivai",
           32355
          ],
          [
           "Alfena",
           12569
          ],
          [
           "Ermesinde",
           34341
          ],
          [
           "Valongo",
           18760
          ],
          [
           "União das freguesias de Campo e Sobrado",
           13791
          ],
          [
           "Árvore",
           4355
          ],
          [
           "Guilhabreu",
           2058
          ],
          [
           "Labruge",
           2367
          ],
          [
           "Macieira da Maia",
           1895
          ],
          [
           "Mindelo",
           3085
          ],
          [
           "Modivas",
           1605
          ],
          [
           "Vila Chã",
           2754
          ],
          [
           "Vilar de Pinheiro",
           2173
          ],
          [
           "União das freguesias de Malta e Canidelo",
           1954
          ],
          [
           "Azurara",
           1764
          ],
          [
           "Vila do Conde",
           24460
          ],
          [
           "Arcozelo",
           12217
          ],
          [
           "Avintes",
           10101
          ],
          [
           "Canelas",
           10873
          ],
          [
           "Canidelo",
           22680
          ],
          [
           "Madalena",
           8573
          ],
          [
           "Oliveira do Douro",
           20039
          ],
          [
           "São Félix da Marinha",
           10475
          ],
          [
           "Vilar de Andorinho",
           14293
          ],
          [
           "União das freguesias de Grijó e Sermonde",
           10117
          ],
          [
           "União das freguesias de Gulpilhares e Valadares",
           18266
          ],
          [
           "União das freguesias de Mafamude e Vilar do Paraíso",
           45075
          ],
          [
           "União das freguesias de Pedroso e Seixezelo",
           17540
          ],
          [
           "União das freguesias de Sandim, Olival, Lever e Crestuma",
           15766
          ],
          [
           "União das freguesias de Santa Marinha e São Pedro da Afurada",
           29241
          ],
          [
           "União das freguesias de Serzedo e Perosinho",
           11797
          ],
          [
           "Fornos",
           1318
          ],
          [
           "São Martinho de Sardoura",
           1684
          ],
          [
           "União das freguesias de Sobrado e Bairros",
           4072
          ],
          [
           "União das freguesias de Arco de Baúlhe e Vila Nune",
           2086
          ],
          [
           "União das freguesias de Refojos de Basto, Outeiro e Painzela",
           5999
          ],
          [
           "União das freguesias de Amarante (São Gonçalo), Madalena, Cepelos e Gatão",
           10758
          ],
          [
           "União das freguesias de Figueiró (Santiago e Santa Cristina)",
           3974
          ],
          [
           "União das freguesias de Freixo de Cima e de Baixo",
           3406
          ],
          [
           "União das freguesias de Real, Ataíde e Oliveira",
           4653
          ],
          [
           "Friande",
           1377
          ],
          [
           "Pombeiro de Ribavizela",
           2003
          ],
          [
           "Refontoura",
           1800
          ],
          [
           "Revinhade",
           587
          ],
          [
           "União das freguesias de Margaride (Santa Eulália), Várzea, Lagares, Varziela e Moure",
           15521
          ],
          [
           "União das freguesias de Pedreira, Rande e Sernande",
           2995
          ],
          [
           "União das freguesias de Torrados e Sousa",
           3095
          ],
          [
           "Airães",
           2397
          ],
          [
           "União das freguesias de Macieira da Lixa e Caramos",
           3519
          ],
          [
           "União das freguesias de Vila Cova da Lixa e Borba de Godim",
           5429
          ],
          [
           "União das freguesias de Vila Verde e Santão",
           1497
          ],
          [
           "União das freguesias de Vila Fria e Vizela (São Jorge)",
           1092
          ],
          [
           "Aveleda",
           1540
          ],
          [
           "Caíde de Rei",
           2353
          ],
          [
           "Lodares",
           1616
          ],
          [
           "Macieira",
           1293
          ],
          [
           "Meinedo",
           3478
          ],
          [
           "Nevogilde",
           2106
          ],
          [
           "Torno",
           2298
          ],
          [
           "Vilar do Torno e Alentém",
           1202
          ],
          [
           "União das freguesias de Cernadelo e Lousada (São Miguel e Santa Margarida)",
           1883
          ],
          [
           "União das freguesias de Cristelos, Boim e Ordem",
           5792
          ],
          [
           "União das freguesias de Figueiras e Covas",
           1691
          ],
          [
           "União das freguesias de Nespereira e Casais",
           2949
          ],
          [
           "União das freguesias de Silvares, Pias, Nogueira e Alvarenga",
           4893
          ],
          [
           "União das freguesias de Lustosa e Barrosas (Santo Estêvão)",
           4676
          ],
          [
           "Alpendorada, Várzea e Torrão",
           9019
          ],
          [
           "Santo Isidoro e Livração",
           1917
          ],
          [
           "Marco",
           9219
          ],
          [
           "Freamunde",
           6415
          ],
          [
           "Carvalhosa",
           3676
          ],
          [
           "Eiriz",
           1805
          ],
          [
           "Ferreira",
           3502
          ],
          [
           "Figueiró",
           1989
          ],
          [
           "Meixomil",
           2966
          ],
          [
           "Penamaior",
           3121
          ],
          [
           "Raimonda",
           2147
          ],
          [
           "Seroa",
           2951
          ],
          [
           "Frazão Arreigada",
           5336
          ],
          [
           "Paços de Ferreira",
           7556
          ],
          [
           "Sanfins Lamoso Codessos",
           4740
          ],
          [
           "Baltar",
           4061
          ],
          [
           "Cete",
           2485
          ],
          [
           "Vandoma",
           1953
          ],
          [
           "Parada de Todeia",
           1518
          ],
          [
           "Astromil",
           809
          ],
          [
           "Gandra",
           5528
          ],
          [
           "Lordelo",
           8660
          ],
          [
           "Vilela",
           4203
          ],
          [
           "Beire",
           1776
          ],
          [
           "Cristelo",
           1504
          ],
          [
           "Duas Igrejas",
           3020
          ],
          [
           "Louredo",
           1179
          ],
          [
           "Sobrosa",
           2309
          ],
          [
           "Paredes",
           16307
          ],
          [
           "Rebordosa",
           7595
          ],
          [
           "Castelões",
           1285
          ],
          [
           "Galegos",
           2246
          ],
          [
           "Irivo",
           1824
          ],
          [
           "Oldrões",
           1653
          ],
          [
           "Rans",
           1482
          ],
          [
           "Penafiel",
           13133
          ],
          [
           "Guilhufe e Urrô",
           3444
          ],
          [
           "Rio de Moinhos",
           2607
          ],
          [
           "Termas de São Vicente",
           4316
          ],
          [
           "Resende",
           2762
          ],
          [
           "União das freguesias de Arouca e Burgo",
           4636
          ],
          [
           "Fiães",
           7319
          ],
          [
           "Lourosa",
           8162
          ],
          [
           "Argoncilhe",
           7408
          ],
          [
           "Arrifana",
           5740
          ],
          [
           "Escapães",
           2931
          ],
          [
           "Fornos",
           2853
          ],
          [
           "Milheirós de Poiares",
           3289
          ],
          [
           "Mozelos",
           6138
          ],
          [
           "Nogueira da Regedoura",
           4793
          ],
          [
           "São Paio de Oleiros",
           3593
          ],
          [
           "Paços de Brandão",
           4378
          ],
          [
           "Rio Meão",
           4406
          ],
          [
           "Sanguedo",
           3061
          ],
          [
           "Santa Maria de Lamas",
           4704
          ],
          [
           "São João de Ver",
           8562
          ],
          [
           "União das freguesias de Caldas de São Jorge e Pigeiros",
           3662
          ],
          [
           "União das freguesias de Canedo, Vale e Vila Maior",
           8959
          ],
          [
           "União das freguesias de Lobão, Gião, Louredo e Guisande",
           9623
          ],
          [
           "União das freguesias de Santa Maria da Feira, Travanca, Sanfins e Espargo",
           15596
          ],
          [
           "Cesar",
           2778
          ],
          [
           "Fajões",
           2829
          ],
          [
           "Loureiro",
           3085
          ],
          [
           "Macieira de Sarnes",
           1750
          ],
          [
           "São Roque",
           4628
          ],
          [
           "Vila de Cucujães",
           9980
          ],
          [
           "União das freguesias de Nogueira do Cravo e Pindelo",
           4766
          ],
          [
           "União das freguesias de Oliveira de Azeméis, Santiago de Riba-Ul, Ul, Macinhata da Seixa e Madail",
           17826
          ],
          [
           "São João da Madeira",
           20236
          ],
          [
           "União das freguesias de Vila Chã, Codal e Vila Cova de Perrinho",
           4950
          ],
          [
           "União das freguesias de Peso da Régua e Godim",
           9033
          ],
          [
           "Sabrosa",
           1092
          ],
          [
           "Arroios",
           955
          ],
          [
           "Folhadela",
           2023
          ],
          [
           "Lordelo",
           2578
          ],
          [
           "Mateus",
           2474
          ],
          [
           "Parada de Cunhos",
           1716
          ],
          [
           "União das freguesias de Borbela e Lamas de Olo",
           2793
          ],
          [
           "União das freguesias de Constantim e Vale de Nogueiras",
           2023
          ],
          [
           "União das freguesias de Vila Real (Nossa Senhora da Conceição, São Pedro e São Dinis)",
           15194
          ],
          [
           "Armamar",
           1316
          ],
          [
           "Lamego (Almacave e Sé)",
           11116
          ],
          [
           "União das freguesias de Tarouca e Dálvares",
           4024
          ],
          [
           "Castro de Avelãs",
           328
          ],
          [
           "Samil",
           967
          ],
          [
           "União das freguesias de Sé, Santa Maria e Meixedo",
           19733
          ],
          [
           "Amendoeira",
           461
          ],
          [
           "Carrapatas",
           249
          ],
          [
           "Grijó",
           518
          ],
          [
           "Macedo de Cavaleiros",
           5875
          ],
          [
           "Sezulfe",
           358
          ],
          [
           "Vale Benfeito",
           264
          ],
          [
           "Vale da Porca",
           373
          ],
          [
           "Vale de Prados",
           462
          ],
          [
           "União das freguesias de Castelãos e Vilar do Monte",
           550
          ],
          [
           "Mirandela",
           10139
          ],
          [
           "Outeiro Seco",
           890
          ],
          [
           "Vilar de Nantes",
           1845
          ],
          [
           "Santa Maria Maior",
           11798
          ],
          [
           "União das freguesias da Madalena e Samaiões",
           3728
          ],
          [
           "União das freguesias de Santa Cruz/Trindade e Sanjurge",
           3363
          ],
          [
           "Albufeira e Olhos de Água",
           20355
          ],
          [
           "Ferreiras",
           4621
          ],
          [
           "União das freguesias de Faro (Sé e São Pedro)",
           39559
          ],
          [
           "Montenegro",
           6138
          ],
          [
           "União das freguesias de Lagoa e Carvoeiro",
           7664
          ],
          [
           "União das freguesias de Lagos (São Sebastião e Santa Maria)",
           16840
          ],
          [
           "Almancil",
           7126
          ],
          [
           "Loulé (São Clemente)",
           13946
          ],
          [
           "Quarteira",
           17005
          ],
          [
           "Olhão",
           13117
          ],
          [
           "Quelfes",
           13139
          ],
          [
           "Alvor",
           4471
          ],
          [
           "Portimão",
           37208
          ],
          [
           "São Brás de Alportel",
           8821
          ],
          [
           "Armação de Pêra",
           4123
          ],
          [
           "Silves",
           9160
          ],
          [
           "União das freguesias de Tavira (Santa Maria e Santiago)",
           12409
          ],
          [
           "Monte Gordo",
           3192
          ],
          [
           "Vila Real de Santo António",
           10248
          ],
          [
           "União das freguesias de Águeda e Borralha",
           12379
          ],
          [
           "União das freguesias de Recardães e Espinhel",
           5376
          ],
          [
           "Fermentelos",
           2850
          ],
          [
           "União das freguesias de Barrô e Aguada de Baixo",
           3254
          ],
          [
           "União das freguesias de Trofa, Segadães e Lamas do Vouga",
           4135
          ],
          [
           "Albergaria-a-Velha e Valmaior",
           9257
          ],
          [
           "Branca",
           4997
          ],
          [
           "União das freguesias de Arcos e Mogofores",
           5754
          ],
          [
           "Aradas",
           7694
          ],
          [
           "Esgueira",
           11190
          ],
          [
           "São Bernardo",
           4253
          ],
          [
           "Santa Joana",
           7385
          ],
          [
           "União das freguesias de Glória e Vera Cruz",
           17291
          ],
          [
           "Salreu",
           3532
          ],
          [
           "União das freguesias de Beduído e Veiros",
           9279
          ],
          [
           "Gafanha da Encarnação",
           5081
          ],
          [
           "Ílhavo (São Salvador)",
           15103
          ],
          [
           "Gafanha da Nazaré",
           13425
          ],
          [
           "União das freguesias da Mealhada, Ventosa do Bairro e Antes",
           5794
          ],
          [
           "Pampilhosa",
           3611
          ],
          [
           "Monte",
           1545
          ],
          [
           "Torreira",
           2632
          ],
          [
           "Oliveira do Bairro",
           5512
          ],
          [
           "Cortegaça",
           3398
          ],
          [
           "Esmoriz",
           10240
          ],
          [
           "União das freguesias de Ovar, São João, Arada e São Vicente de Pereira Jusã",
           26276
          ],
          [
           "Sever do Vouga",
           2375
          ],
          [
           "União das freguesias de Ponte de Vagos e Santa Catarina",
           2899
          ],
          [
           "União das freguesias de Vagos e Santo António",
           5670
          ],
          [
           "União das freguesias de Cantanhede e Pocariça",
           7937
          ],
          [
           "Ceira",
           3595
          ],
          [
           "Santo António dos Olivais",
           34525
          ],
          [
           "União das freguesias de Assafarge e Antanhol",
           4446
          ],
          [
           "União das freguesias de Coimbra (Sé Nova, Santa Cruz, Almedina e São Bartolomeu)",
           14066
          ],
          [
           "União das freguesias de Eiras e São Paulo de Frades",
           15269
          ],
          [
           "União das freguesias de Santa Clara e Castelo Viegas",
           10643
          ],
          [
           "União das freguesias de São Martinho do Bispo e Ribeira de Frades",
           14063
          ],
          [
           "União das freguesias de Taveiro, Ameal e Arzila",
           3783
          ],
          [
           "União das freguesias de Trouxemil e Torre de Vilela",
           3576
          ],
          [
           "São João do Campo",
           1889
          ],
          [
           "São Silvestre",
           2681
          ],
          [
           "União das freguesias de Condeixa-a-Velha e Condeixa-a-Nova",
           6146
          ],
          [
           "União das freguesias de Sebal e Belide",
           2380
          ],
          [
           "Tavarede",
           7998
          ],
          [
           "São Pedro",
           2677
          ],
          [
           "Buarcos",
           17978
          ],
          [
           "Mira",
           7481
          ],
          [
           "Granja do Ulmeiro",
           1619
          ],
          [
           "Soure",
           7686
          ],
          [
           "Batalha",
           7057
          ],
          [
           "Arrabal",
           2532
          ],
          [
           "União das freguesias de Leiria, Pousos, Barreira e Cortes",
           26906
          ],
          [
           "União das freguesias de Marrazes e Barosa",
           19499
          ],
          [
           "União das freguesias de Parceiros e Azoia",
           5834
          ],
          [
           "Maceira",
           8879
          ],
          [
           "União das freguesias de Santa Eufémia e Boa Vista",
           3999
          ],
          [
           "Marinha Grande",
           26429
          ],
          [
           "Meirinhas",
           1598
          ],
          [
           "Pombal",
           15819
          ],
          [
           "Porto de Mós - São João Baptista e São Pedro",
           5208
          ],
          [
           "União das freguesias de Lousã e Vilarinho",
           11048
          ],
          [
           "Miranda do Corvo",
           6240
          ],
          [
           "União das freguesias de Oliveira do Hospital e São Paio de Gramaços",
           4908
          ],
          [
           "Tábua",
           2686
          ],
          [
           "Poiares (Santo André)",
           3426
          ],
          [
           "União das freguesias de Mangualde, Mesquitela e Cunha Alta",
           9912
          ],
          [
           "Nelas",
           4230
          ],
          [
           "União das freguesias de Oliveira de Frades, Souto de Lafões e Sejães",
           3209
          ],
          [
           "Ínsua",
           2022
          ],
          [
           "São Joaninho",
           1150
          ],
          [
           "União das freguesias de Santa Comba Dão e Couto do Mosteiro",
           4325
          ],
          [
           "União das freguesias de São Pedro do Sul, Várzea e Baiões",
           5219
          ],
          [
           "Sátão",
           3977
          ],
          [
           "Campo de Besteiros",
           1394
          ],
          [
           "Castelões",
           1689
          ],
          [
           "Parada de Gonta",
           987
          ],
          [
           "Canas de Santa Maria",
           1771
          ],
          [
           "Molelos",
           2636
          ],
          [
           "União das freguesias de Tondela e Nandufe",
           4517
          ],
          [
           "União das freguesias de Faíl e Vila Chã de Sá",
           2599
          ],
          [
           "Abraveses",
           7882
          ],
          [
           "Campo",
           4987
          ],
          [
           "Mundão",
           2048
          ],
          [
           "Orgens",
           3238
          ],
          [
           "Ranhados",
           3779
          ],
          [
           "Rio de Loba",
           7756
          ],
          [
           "São João de Lourosa",
           4254
          ],
          [
           "União das freguesias de Repeses e São Salvador",
           4953
          ],
          [
           "União das freguesias de Viseu",
           21516
          ],
          [
           "Sertã",
           5290
          ],
          [
           "União das freguesias de Seia, São Romão e Lapa dos Dinheiros",
           9006
          ],
          [
           "União das freguesias de Santa Marinha e São Martinho",
           1768
          ],
          [
           "Vilar Formoso",
           2167
          ],
          [
           "Guarda",
           22258
          ],
          [
           "Castelo Branco",
           29556
          ],
          [
           "Tortosendo",
           5061
          ],
          [
           "União das freguesias de Covilhã e Canhoso",
           17735
          ],
          [
           "União das freguesias de Fundão, Valverde, Donas, Aldeia de Joanes e Aldeia Nova do Cabo",
           11671
          ],
          [
           "União das freguesias de Alcobaça e Vestiaria",
           6168
          ],
          [
           "Benedita",
           7177
          ],
          [
           "Roliça",
           2500
          ],
          [
           "União das freguesias do Bombarral e Vale Covo",
           6407
          ],
          [
           "União das freguesias de Caldas da Rainha - Nossa Senhora do Pópulo, Coto e São Gregório",
           15372
          ],
          [
           "União das freguesias de Caldas da Rainha - Santo Onofre e Serra do Bouro",
           10116
          ],
          [
           "Foz do Arelho",
           1233
          ],
          [
           "Nazaré",
           10076
          ],
          [
           "Atouguia da Baleia",
           7860
          ],
          [
           "Peniche",
           13726
          ],
          [
           "Serra d'El-Rei",
           1288
          ],
          [
           "União das freguesias de Alenquer (Santo Estêvão e Triana)",
           8284
          ],
          [
           "União das freguesias de Carregado e Cadafais",
           9505
          ],
          [
           "Arruda dos Vinhos",
           6390
          ],
          [
           "Ribamar",
           1835
          ],
          [
           "União das freguesias de Lourinhã e Atalaia",
           10449
          ],
          [
           "Sobral de Monte Agraço",
           2723
          ],
          [
           "Ponte do Rol",
           1943
          ],
          [
           "Silveira",
           6985
          ],
          [
           "União das freguesias de Torres Vedras (São Pedro, Santiago, Santa Maria do Castelo e São Miguel) e Matacães",
           21585
          ],
          [
           "Turcifal",
           2604
          ],
          [
           "União das freguesias de A dos Cunhados e Maceira",
           8453
          ],
          [
           "União das freguesias de Carvoeira e Carmões",
           2115
          ],
          [
           "União das freguesias de Abrantes (São Vicente e São João) e Alferrarede",
           14568
          ],
          [
           "União das freguesias de São Miguel do Rio Torto e Rossio ao Sul do Tejo",
           4658
          ],
          [
           "União das freguesias de Alcanena e Vila Moreira",
           4566
          ],
          [
           "Constância",
           834
          ],
          [
           "São João Baptista",
           7135
          ],
          [
           "União das freguesias de Tomar (São João Baptista) e Santa Maria dos Olivais",
           16765
          ],
          [
           "Riachos",
           4612
          ],
          [
           "União das freguesias de Torres Novas (Santa Maria, Salvador e Santiago)",
           6832
          ],
          [
           "União das freguesias de Torres Novas (São Pedro), Lapas e Ribeira Branca",
           7746
          ],
          [
           "Vila Nova da Barquinha",
           3144
          ],
          [
           "Caxarias",
           2181
          ],
          [
           "Fátima",
           9311
          ],
          [
           "Nossa Senhora da Piedade",
           6147
          ],
          [
           "Alcabideche",
           31253
          ],
          [
           "São Domingos de Rana",
           43394
          ],
          [
           "União das freguesias de Carcavelos e Parede",
           37450
          ],
          [
           "União das freguesias de Cascais e Estoril",
           55520
          ],
          [
           "Ajuda",
           14991
          ],
          [
           "Alcântara",
           13268
          ],
          [
           "Beato",
           11750
          ],
          [
           "Benfica",
           35634
          ],
          [
           "Campolide",
           13913
          ],
          [
           "Carnide",
           16359
          ],
          [
           "Lumiar",
           36279
          ],
          [
           "Marvila",
           36307
          ],
          [
           "Olivais",
           44569
          ],
          [
           "São Domingos de Benfica",
           30370
          ],
          [
           "Alvalade",
           30334
          ],
          [
           "Areeiro",
           20524
          ],
          [
           "Arroios",
           30812
          ],
          [
           "Avenidas Novas",
           22039
          ],
          [
           "Belém",
           15151
          ],
          [
           "Campo de Ourique",
           21929
          ],
          [
           "Estrela",
           18682
          ],
          [
           "Misericórdia",
           13652
          ],
          [
           "Penha de França",
           26427
          ],
          [
           "Santa Clara",
           18232
          ],
          [
           "Santa Maria Maior",
           13266
          ],
          [
           "Santo António",
           12497
          ],
          [
           "São Vicente",
           13598
          ],
          [
           "Loures",
           22303
          ],
          [
           "União das freguesias de Sacavém e Prior Velho",
           19612
          ],
          [
           "União das freguesias de Camarate, Unhos e Apelação",
           27316
          ],
          [
           "União das freguesias de Moscavide e Portela",
           23006
          ],
          [
           "União das freguesias de Santa Iria de Azoia, São João da Talha e Bobadela",
           36485
          ],
          [
           "União das freguesias de Santo Antão e São Julião do Tojal",
           6442
          ],
          [
           "União das freguesias de Santo António dos Cavaleiros e Frielas",
           23042
          ],
          [
           "Ericeira",
           7651
          ],
          [
           "Mafra",
           13320
          ],
          [
           "União das freguesias de Malveira e São Miguel de Alcainça",
           6000
          ],
          [
           "União das freguesias de Venda do Pinheiro e Santo Estêvão das Galés",
           7219
          ],
          [
           "Barcarena",
           11146
          ],
          [
           "Porto Salvo",
           11812
          ],
          [
           "União das freguesias de Algés, Linda-a-Velha e Cruz Quebrada-Dafundo",
           42196
          ],
          [
           "União das freguesias de Carnaxide e Queijas",
           28825
          ],
          [
           "União das freguesias de Oeiras e São Julião da Barra, Paço de Arcos e Caxias",
           51167
          ],
          [
           "União das freguesias de Agualva e Mira-Sintra",
           34591
          ],
          [
           "Algueirão-Mem Martins",
           50544
          ],
          [
           "Casal de Cambra",
           9096
          ],
          [
           "Colares",
           6377
          ],
          [
           "União das freguesias de Massamá e Monte Abraão",
           39522
          ],
          [
           "União das freguesias de Queluz e Belas",
           41791
          ],
          [
           "Rio de Mouro",
           36125
          ],
          [
           "União das freguesias de Sintra (Santa Maria e São Miguel, São Martinho e São Pedro de Penaferrim)",
           23127
          ],
          [
           "União das freguesias de Almargem do Bispo, Pêro Pinheiro e Montelavar",
           14139
          ],
          [
           "União das freguesias de São João das Lampas e Terrugem",
           12416
          ],
          [
           "União das freguesias de Alverca do Ribatejo e Sobralinho",
           28153
          ],
          [
           "União das freguesias de Póvoa de Santa Iria e Forte da Casa",
           31810
          ],
          [
           "União das freguesias de Alhandra, São João dos Montes e Calhandriz",
           10470
          ],
          [
           "União das freguesias de Castanheira do Ribatejo e Cachoeiras",
           6632
          ],
          [
           "Vialonga",
           15584
          ],
          [
           "Vila Franca de Xira",
           15781
          ],
          [
           "Alfragide",
           20154
          ],
          [
           "Águas Livres",
           30235
          ],
          [
           "Encosta do Sol",
           23278
          ],
          [
           "Falagueira-Venda Nova",
           19816
          ],
          [
           "Mina de Água",
           34366
          ],
          [
           "Venteira",
           16892
          ],
          [
           "Odivelas",
           49856
          ],
          [
           "União das freguesias de Pontinha e Famões",
           28812
          ],
          [
           "União das freguesias de Póvoa de Santo Adrião e Olival Basto",
           16312
          ],
          [
           "União das freguesias de Ramada e Caneças",
           25527
          ],
          [
           "União das freguesias de Alcácer do Sal (Santa Maria do Castelo e Santiago) e Santa Susana",
           7912
          ],
          [
           "Alcochete",
           9377
          ],
          [
           "Samouco",
           2544
          ],
          [
           "São Francisco",
           1490
          ],
          [
           "União das freguesias de Almada, Cova da Piedade, Pragal e Cacilhas",
           48704
          ],
          [
           "União das freguesias de Caparica e Trafaria",
           21696
          ],
          [
           "União das freguesias de Laranjeiro e Feijó",
           33809
          ],
          [
           "Costa da Caparica",
           11066
          ],
          [
           "União das freguesias de Charneca de Caparica e Sobreda",
           33004
          ],
          [
           "União das freguesias de Alto do Seixalinho, Santo André e Verderena",
           38215
          ],
          [
           "União das freguesias de Barreiro e Lavradio",
           19855
          ],
          [
           "Santo António da Charneca",
           9831
          ],
          [
           "União das freguesias de Palhais e Coina",
           3063
          ],
          [
           "União das freguesias de Grândola e Santa Margarida da Serra",
           9212
          ],
          [
           "Alhos Vedros",
           12741
          ],
          [
           "Moita",
           15489
          ],
          [
           "União das freguesias de Baixa da Banheira e Vale da Amoreira",
           28931
          ],
          [
           "União das freguesias de Atalaia e Alto Estanqueiro-Jardia",
           3977
          ],
          [
           "União das freguesias de Montijo e Afonsoeiro",
           29072
          ],
          [
           "Palmela",
           13909
          ],
          [
           "Pinhal Novo",
           20313
          ],
          [
           "Quinta do Anjo",
           8833
          ],
          [
           "União das freguesias de Santiago do Cacém, Santa Cruz e São Bartolomeu da Serra",
           6830
          ],
          [
           "Santo André",
           9099
          ],
          [
           "Amora",
           41554
          ],
          [
           "Corroios",
           39485
          ],
          [
           "Fernão Ferro",
           12551
          ],
          [
           "União das freguesias do Seixal, Arrentela e Aldeia de Paio Pires",
           36748
          ],
          [
           "Quinta do Conde",
           19393
          ],
          [
           "Sesimbra (Santiago)",
           5546
          ],
          [
           "Setúbal (São Sebastião)",
           43756
          ],
          [
           "União das freguesias de Setúbal (São Julião, Nossa Senhora da Anunciada e Santa Maria da Graça)",
           35008
          ],
          [
           "Sines",
           10798
          ],
          [
           "Nossa Senhora da Expectação",
           3435
          ],
          [
           "São João Baptista",
           3619
          ],
          [
           "São Brás e São Lourenço",
           1501
          ],
          [
           "Assunção, Ajuda, Salvador e Santo Ildefonso",
           8121
          ],
          [
           "Caia, São Pedro e Alcáçova",
           5642
          ],
          [
           "União das freguesias de Ponte de Sor, Tramaga e Vale de Açor",
           9736
          ],
          [
           "União das freguesias da Sé e São Lourenço",
           13763
          ],
          [
           "Borba (São Bartolomeu)",
           760
          ],
          [
           "União das freguesias de Estremoz (Santa Maria e Santo André)",
           7592
          ],
          [
           "Canaviais",
           2618
          ],
          [
           "União das freguesias de Bacelo e Senhora da Saúde",
           15435
          ],
          [
           "União das freguesias de Évora (São Mamede, Sé, São Pedro e Santo Antão)",
           5314
          ],
          [
           "União das freguesias de Malagueira e Horta das Figueiras",
           17745
          ],
          [
           "União das freguesias de Nossa Senhora da Vila, Nossa Senhora do Bispo e Silveiras",
           9804
          ],
          [
           "Redondo",
           4970
          ],
          [
           "Reguengos de Monsaraz",
           5906
          ],
          [
           "Vendas Novas",
           9718
          ],
          [
           "Nossa Senhora da Conceição e São Bartolomeu",
           4431
          ],
          [
           "União das freguesias de Aljustrel e Rio de Moinhos",
           5471
          ],
          [
           "União das freguesias de Beja (Salvador e Santa Maria da Feira)",
           8585
          ],
          [
           "União das freguesias de Beja (Santiago Maior e São João Baptista)",
           12010
          ],
          [
           "União das freguesias de Castro Verde e Casével",
           4552
          ],
          [
           "União das freguesias de Ferreira do Alentejo e Canhestros",
           4545
          ],
          [
           "União das freguesias de Moura (Santo Agostinho e São João Baptista) e Santo Amador",
           7852
          ],
          [
           "União das freguesias de Serpa (Salvador e Santa Maria)",
           5398
          ],
          [
           "Azambuja",
           6297
          ],
          [
           "Almeirim",
           10663
          ],
          [
           "Fazendas de Almeirim",
           6097
          ],
          [
           "Alpiarça",
           6525
          ],
          [
           "Benavente",
           7420
          ],
          [
           "Samora Correia",
           12900
          ],
          [
           "União das freguesias do Cartaxo e Vale da Pinta",
           10595
          ],
          [
           "União das freguesias de Coruche, Fajarda e Erra",
           10532
          ],
          [
           "Rio Maior",
           10205
          ],
          [
           "Marinhais",
           5188
          ],
          [
           "União das freguesias de Salvaterra de Magos e Foros de Salvaterra",
           8747
          ],
          [
           "Amiais de Baixo",
           1682
          ],
          [
           "Vale de Santarém",
           2612
          ],
          [
           "União das freguesias de Santarém (Marvila), Santa Iria da Ribeira de Santarém, Santarém (São Salvador) e Santarém (São Nicolau)",
           25207
          ],
          [
           "Cabouco",
           1493
          ],
          [
           "Lagoa (Nossa Senhora do Rosário)",
           4612
          ],
          [
           "Lagoa (Santa Cruz)",
           3021
          ],
          [
           "Arrifes",
           6148
          ],
          [
           "Fajã de Baixo",
           4443
          ],
          [
           "Ponta Delgada (São Sebastião)",
           4294
          ],
          [
           "Ponta Delgada (São José)",
           5931
          ],
          [
           "Ponta Delgada (São Pedro)",
           7593
          ],
          [
           "Rosto do Cão (Livramento)",
           3661
          ],
          [
           "Rosto do Cão (São Roque)",
           4244
          ],
          [
           "Relva",
           2485
          ],
          [
           "Calhetas",
           731
          ],
          [
           "Pico da Pedra",
           2288
          ],
          [
           "Rabo de Peixe",
           6602
          ],
          [
           "Ribeira Grande (Conceição)",
           2006
          ],
          [
           "Ribeira Grande (Matriz)",
           3501
          ],
          [
           "Vila Franca do Campo (São Pedro)",
           1293
          ],
          [
           "Angra (Nossa Senhora da Conceição)",
           3830
          ],
          [
           "Angra (Santa Luzia)",
           2421
          ],
          [
           "Angra (São Pedro)",
           3380
          ],
          [
           "Angra (Sé)",
           1273
          ],
          [
           "São Bento",
           1777
          ],
          [
           "Ribeirinha",
           2397
          ],
          [
           "São Mateus da Calheta",
           3185
          ],
          [
           "Lajes",
           3243
          ],
          [
           "Praia da Vitória (Santa Cruz)",
           6225
          ],
          [
           "Horta (Angústias)",
           2360
          ],
          [
           "Horta (Matriz)",
           2180
          ],
          [
           "Paul do Mar",
           874
          ],
          [
           "Câmara de Lobos",
           15414
          ],
          [
           "Estreito de Câmara de Lobos",
           9509
          ],
          [
           "Jardim da Serra",
           3229
          ],
          [
           "Imaculado Coração de Maria",
           6362
          ],
          [
           "Monte",
           6530
          ],
          [
           "Funchal (Santa Luzia)",
           5873
          ],
          [
           "Funchal (Santa Maria Maior)",
           13624
          ],
          [
           "Santo António",
           24369
          ],
          [
           "São Gonçalo",
           6085
          ],
          [
           "São Martinho",
           24382
          ],
          [
           "Funchal (São Pedro)",
           7600
          ],
          [
           "São Roque",
           8833
          ],
          [
           "Funchal (Sé)",
           2940
          ],
          [
           "Água de Pena",
           2176
          ],
          [
           "Caniçal",
           3537
          ],
          [
           "Machico",
           11247
          ],
          [
           "Campanário",
           4548
          ],
          [
           "Ribeira Brava",
           7088
          ],
          [
           "Camacha",
           6691
          ],
          [
           "Caniço",
           18225
          ],
          [
           "Gaula",
           3664
          ],
          [
           "Santa Cruz",
           6986
          ],
          [
           "Porto Santo",
           5594
          ]
         ],
         "hovertemplate": "PT_INE_11=%{x}<br>diff_rel_11=%{y}<br>FF_DSG=%{customdata[0]}<br>PT_MAI_11=%{customdata[1]}<extra></extra>",
         "legendgroup": "",
         "marker": {
          "color": "#636efa",
          "symbol": "circle"
         },
         "mode": "markers",
         "name": "",
         "orientation": "v",
         "showlegend": false,
         "type": "scatter",
         "x": [
          587,
          754,
          1300,
          2018,
          1030,
          957,
          2087,
          783,
          3910,
          1010,
          487,
          582,
          2618,
          2877,
          313,
          3504,
          2982,
          331,
          2337,
          1029,
          887,
          519,
          2947,
          1078,
          4072,
          2131,
          4104,
          2383,
          2222,
          3972,
          6155,
          3104,
          20571,
          1875,
          832,
          726,
          1330,
          858,
          1546,
          2049,
          3499,
          1476,
          665,
          1726,
          9866,
          1482,
          1745,
          1157,
          1795,
          1342,
          1166,
          2304,
          1535,
          2439,
          1489,
          9011,
          1769,
          1377,
          948,
          4160,
          635,
          1935,
          1200,
          4408,
          892,
          10113,
          22453,
          897,
          11291,
          11473,
          1748,
          5283,
          3024,
          7062,
          5225,
          4187,
          2920,
          1149,
          10094,
          4028,
          9009,
          1293,
          1814,
          2195,
          845,
          1127,
          5777,
          2488,
          8711,
          1569,
          2465,
          2172,
          890,
          3524,
          1314,
          5432,
          12612,
          1116,
          1720,
          1256,
          1176,
          2580,
          2007,
          3018,
          987,
          6933,
          3772,
          3957,
          7844,
          4354,
          2306,
          3528,
          3310,
          4039,
          2093,
          1017,
          967,
          2842,
          5103,
          3559,
          1906,
          4623,
          1144,
          1818,
          4338,
          2051,
          2917,
          2951,
          2017,
          6880,
          2777,
          1863,
          1767,
          2009,
          1156,
          4425,
          933,
          2000,
          3870,
          6307,
          1521,
          1713,
          3219,
          6833,
          2969,
          1573,
          3153,
          2348,
          1728,
          2811,
          2776,
          2266,
          2092,
          2093,
          2440,
          1233,
          1837,
          3073,
          2357,
          2660,
          1674,
          2325,
          5690,
          2836,
          2872,
          4285,
          15809,
          4318,
          1473,
          1775,
          8574,
          2532,
          1317,
          5709,
          17801,
          7019,
          2857,
          3014,
          3322,
          2995,
          5537,
          17095,
          7166,
          8257,
          2897,
          5532,
          9681,
          39329,
          40858,
          11291,
          31504,
          21432,
          3821,
          10105,
          1439,
          4698,
          9858,
          14485,
          31666,
          6110,
          37176,
          39586,
          23948,
          41631,
          20377,
          27063,
          37298,
          30736,
          23377,
          33846,
          23676,
          10806,
          4534,
          27085,
          11990,
          31357,
          18450,
          12596,
          3940,
          1926,
          2299,
          1760,
          2797,
          1491,
          2460,
          2071,
          1821,
          1844,
          22427,
          11407,
          9296,
          10494,
          22011,
          8165,
          18102,
          10145,
          14052,
          9444,
          17419,
          42508,
          16406,
          13828,
          27189,
          11368,
          1154,
          1491,
          3836,
          1625,
          5222,
          9335,
          3039,
          2899,
          4006,
          1377,
          1761,
          1597,
          638,
          14037,
          2728,
          2690,
          1956,
          3053,
          4872,
          1241,
          930,
          1536,
          1994,
          1520,
          1040,
          3213,
          1987,
          1945,
          1065,
          1681,
          5658,
          1579,
          2721,
          4676,
          4349,
          6409,
          1730,
          8453,
          6071,
          3501,
          1715,
          3275,
          1898,
          2855,
          2924,
          2008,
          3019,
          4902,
          6866,
          4328,
          3799,
          2427,
          1768,
          1441,
          823,
          5327,
          7838,
          3814,
          1604,
          1399,
          2806,
          1159,
          2012,
          15314,
          7052,
          1127,
          2063,
          1730,
          1501,
          1435,
          12379,
          3162,
          2223,
          3820,
          2494,
          4132,
          6515,
          7025,
          6777,
          5348,
          2726,
          2664,
          3017,
          5630,
          4503,
          3357,
          3970,
          3993,
          2766,
          4110,
          8285,
          3173,
          7389,
          7689,
          14228,
          2522,
          2458,
          2880,
          1594,
          4329,
          8796,
          4388,
          16869,
          17471,
          4368,
          8133,
          975,
          886,
          1841,
          2511,
          2638,
          1540,
          2260,
          1497,
          14039,
          1149,
          9867,
          3293,
          397,
          995,
          17746,
          367,
          172,
          315,
          4973,
          235,
          163,
          249,
          369,
          450,
          9340,
          783,
          1735,
          9708,
          2253,
          2790,
          16877,
          4551,
          34166,
          6036,
          6713,
          15116,
          6603,
          12813,
          14480,
          11377,
          12609,
          4576,
          32337,
          7846,
          3183,
          8246,
          11141,
          2612,
          9046,
          10830,
          4924,
          2578,
          2674,
          3700,
          8166,
          4502,
          4990,
          7323,
          10294,
          3924,
          6479,
          15045,
          3181,
          7962,
          4166,
          13262,
          11910,
          5146,
          3357,
          1149,
          2141,
          4877,
          3123,
          9046,
          23874,
          2216,
          2227,
          5049,
          6939,
          3223,
          32382,
          4287,
          11696,
          14377,
          9588,
          13340,
          3587,
          3193,
          1724,
          2531,
          6676,
          2187,
          7404,
          2322,
          15063,
          6215,
          1517,
          6600,
          6498,
          2163,
          24779,
          18352,
          5530,
          8135,
          3261,
          24894,
          1329,
          13323,
          4711,
          10222,
          6099,
          4456,
          2775,
          3360,
          8278,
          3687,
          2939,
          1679,
          905,
          3703,
          4606,
          3080,
          1202,
          1316,
          638,
          1543,
          2005,
          4174,
          2061,
          6656,
          3924,
          1775,
          2817,
          3870,
          7308,
          3662,
          4912,
          18508,
          4960,
          7755,
          1414,
          1862,
          21125,
          28354,
          4601,
          15913,
          10768,
          5522,
          6747,
          2308,
          5466,
          14568,
          9015,
          1047,
          8283,
          7056,
          11902,
          1116,
          8135,
          8872,
          6326,
          1649,
          9095,
          2639,
          1890,
          6413,
          20036,
          2626,
          8039,
          1974,
          13731,
          4185,
          4008,
          789,
          6207,
          14755,
          4313,
          6620,
          7015,
          3001,
          1732,
          8661,
          5496,
          30413,
          42538,
          34166,
          44917,
          12859,
          11186,
          10067,
          30625,
          11942,
          15139,
          35558,
          30289,
          28081,
          26921,
          26212,
          16249,
          23647,
          17387,
          13056,
          17761,
          15635,
          10090,
          22162,
          16049,
          9367,
          9134,
          12098,
          20763,
          17312,
          23725,
          17462,
          34623,
          6132,
          19817,
          7352,
          13177,
          6021,
          7242,
          10633,
          11128,
          37819,
          27272,
          45326,
          29475,
          46502,
          8553,
          5783,
          34897,
          37560,
          32813,
          22382,
          13107,
          12588,
          27429,
          30071,
          10062,
          6202,
          15033,
          14046,
          12662,
          27129,
          20051,
          17323,
          31443,
          19524,
          44421,
          25190,
          13832,
          24700,
          7427,
          9086,
          2383,
          1597,
          40832,
          19162,
          29944,
          9839,
          34189,
          33538,
          17391,
          8808,
          2848,
          8771,
          11668,
          14016,
          23034,
          3846,
          27747,
          13839,
          18938,
          9065,
          6864,
          8518,
          35725,
          36479,
          13228,
          33552,
          18558,
          4202,
          38982,
          30142,
          10184,
          3077,
          3119,
          1346,
          7480,
          4749,
          9058,
          12738,
          657,
          7094,
          2690,
          14898,
          4012,
          17499,
          9448,
          4700,
          5709,
          9026,
          4165,
          4908,
          8608,
          11199,
          4312,
          4179,
          6902,
          5069,
          5955,
          9963,
          5660,
          6186,
          6986,
          12245,
          9858,
          9771,
          9272,
          5028,
          8254,
          1510,
          2375,
          23292,
          1373,
          4024,
          2652,
          5322,
          3890,
          3230,
          4761,
          6125,
          3020,
          3679,
          2243,
          690,
          2146,
          5796,
          1856,
          2922,
          1065,
          3038,
          2299,
          2804,
          821,
          1609,
          2105,
          2772,
          2952,
          5232,
          1947,
          2031,
          702,
          13011,
          7537,
          2534,
          5177,
          5581,
          4758,
          10929,
          21390,
          5354,
          20564,
          5941,
          7559,
          2029,
          1851,
          2961,
          9037,
          3528,
          5034,
          5886,
          17156,
          3078,
          5688,
          4263
         ],
         "xaxis": "x",
         "y": [
          48.4,
          38.5,
          40.5,
          21.9,
          13.9,
          14,
          20.7,
          25,
          26.6,
          49.6,
          35.7,
          28.5,
          8.6,
          25.5,
          44.4,
          25.1,
          14.8,
          23.9,
          13.7,
          -9.1,
          19.3,
          3.1,
          17.3,
          11.4,
          17.6,
          37.9,
          24.4,
          45.6,
          35.8,
          10.9,
          18.7,
          17.4,
          13.6,
          30.5,
          17.5,
          25.5,
          7.2,
          10.7,
          21.7,
          34.4,
          25.1,
          21.7,
          16.8,
          10.6,
          6.9,
          11.5,
          10.7,
          11.9,
          13.2,
          23.5,
          18.2,
          10.8,
          16.2,
          11.7,
          3.2,
          8.9,
          16.6,
          13.8,
          13.2,
          2,
          1.9,
          14.4,
          26.5,
          13,
          22.3,
          3.6,
          3.6,
          5.7,
          19.4,
          14.7,
          25,
          12.7,
          14.9,
          8.7,
          5.1,
          2.2,
          19,
          20.5,
          12.2,
          -7.8,
          5.8,
          16.4,
          17,
          16.9,
          33,
          38.5,
          23,
          -10.9,
          34.9,
          14.6,
          22.9,
          14.3,
          20.4,
          17.3,
          17,
          12.1,
          16.6,
          24.7,
          25,
          2.3,
          8,
          20.7,
          6.3,
          15.7,
          17.6,
          9.6,
          11.3,
          -11.8,
          4.2,
          7,
          10.8,
          9.7,
          14.4,
          14.7,
          11.4,
          11.1,
          9.3,
          19.2,
          9.9,
          15.5,
          14.7,
          11.4,
          10.8,
          10.9,
          10.2,
          12.3,
          18,
          -2.1,
          8.7,
          19.3,
          17.2,
          12.8,
          17.1,
          14.8,
          14.2,
          26.8,
          20.7,
          32,
          31,
          8,
          15.2,
          16,
          6.2,
          8.1,
          11.8,
          8.9,
          16.5,
          17.5,
          22.7,
          15.2,
          17.8,
          8.3,
          7.9,
          20.7,
          18.9,
          18.6,
          11.3,
          12.2,
          7.6,
          6.4,
          7.5,
          15.8,
          -3.7,
          11.6,
          5.7,
          11.9,
          8.2,
          7.2,
          6.5,
          13.9,
          10.3,
          9.4,
          4.4,
          10.2,
          7.7,
          11.1,
          11.9,
          14.2,
          7.1,
          11.7,
          10.4,
          8.5,
          6.3,
          28.1,
          14.1,
          12.3,
          13.3,
          5.6,
          5.1,
          6,
          4.8,
          1.2,
          3.5,
          0.6,
          15.2,
          4.7,
          -0.1,
          75.6,
          -28.3,
          7.8,
          -2.3,
          9.4,
          6.9,
          3.8,
          17.1,
          16.8,
          11.5,
          6.1,
          12.5,
          24.5,
          7.3,
          11.3,
          26.7,
          19.5,
          4.8,
          9.5,
          1.7,
          9.5,
          10.5,
          6.9,
          3,
          7.7,
          10.3,
          7.6,
          12,
          4.9,
          7.3,
          -4.3,
          9.1,
          7.1,
          8.7,
          3.6,
          3,
          5,
          10.7,
          3.3,
          1.7,
          7.1,
          4.9,
          6,
          6.9,
          14,
          7.5,
          3.8,
          14.2,
          12.9,
          6.2,
          28.4,
          14.9,
          15.2,
          30.8,
          17.5,
          16.2,
          0,
          13.7,
          12.7,
          -8,
          10.6,
          9.8,
          15.1,
          22.5,
          15.3,
          11.4,
          20.6,
          17.4,
          0.3,
          18,
          6.3,
          24.3,
          8.2,
          6,
          18.1,
          12.9,
          12,
          2.4,
          7.1,
          8.4,
          4.6,
          7.5,
          40.7,
          10.8,
          9.1,
          5.7,
          5,
          5.2,
          6.9,
          4.8,
          3.9,
          6.7,
          6.9,
          -2.3,
          8.9,
          10,
          9.5,
          6.9,
          2.4,
          10.5,
          5.3,
          -1.7,
          3.8,
          10.5,
          10.2,
          10.7,
          7.5,
          7.6,
          1.7,
          14.8,
          6.5,
          7.7,
          14,
          8.9,
          5.4,
          10.1,
          3.3,
          6.1,
          8.9,
          17.3,
          13,
          10.7,
          12.2,
          12.3,
          16.2,
          9.3,
          7.3,
          7.5,
          7.1,
          9,
          9,
          6.4,
          7,
          10.3,
          10.3,
          10.7,
          14.5,
          3.3,
          15.4,
          21.2,
          25.2,
          9.6,
          10.2,
          15.1,
          7.1,
          9.8,
          6.9,
          13.5,
          8.6,
          5.7,
          15.8,
          13.3,
          11.1,
          12,
          7.8,
          9.9,
          2.7,
          -6.2,
          11.4,
          23.6,
          35.1,
          8.2,
          14.5,
          12.7,
          22.2,
          -17.4,
          -2.8,
          11.2,
          25.6,
          44.8,
          64.4,
          18.1,
          52.3,
          62,
          49.8,
          25.2,
          22.2,
          8.6,
          13.7,
          6.3,
          21.5,
          65.5,
          20.5,
          20.6,
          1.5,
          15.8,
          1.7,
          14.2,
          11.4,
          7.9,
          8.8,
          17.4,
          15.3,
          4.2,
          -2.3,
          15.1,
          12.4,
          29.5,
          11.1,
          11.4,
          22.2,
          13.3,
          14.3,
          9.2,
          10.6,
          21.7,
          11.8,
          13.4,
          11,
          15.3,
          5.1,
          8.7,
          8.4,
          14,
          14.9,
          11,
          16.5,
          22,
          13.9,
          12.7,
          12.6,
          7.6,
          34.5,
          22.9,
          13,
          8.8,
          13.2,
          10.1,
          7.2,
          30.2,
          12.3,
          14.4,
          11.5,
          6.6,
          3.7,
          20.3,
          6.2,
          11,
          5.4,
          5.5,
          12,
          9.6,
          5.9,
          -7.9,
          8.8,
          8,
          15.3,
          19.4,
          20.4,
          6.7,
          16.5,
          8.6,
          17.1,
          8.6,
          6.2,
          5.5,
          9.1,
          22.6,
          6.2,
          20.2,
          18.7,
          10.5,
          8.1,
          2.3,
          10.1,
          -3.2,
          2,
          19.7,
          14.7,
          9.2,
          20.4,
          27.1,
          16.8,
          13.3,
          29.1,
          16,
          28.3,
          54.7,
          14.8,
          31.5,
          8.2,
          26.1,
          18.4,
          27.1,
          15.4,
          14.9,
          -2.4,
          6.1,
          16.2,
          0.8,
          16.3,
          6.7,
          16.1,
          25,
          16.4,
          5.4,
          4.2,
          10,
          11.4,
          8.4,
          11.7,
          6.4,
          8.3,
          17.2,
          5.5,
          12.2,
          17.8,
          21.6,
          11.4,
          15.3,
          15.4,
          1.8,
          7.1,
          1,
          11.3,
          14.9,
          3.2,
          2.8,
          8.9,
          7.7,
          -0.8,
          5.1,
          7.1,
          6.1,
          11.3,
          13.9,
          5.7,
          15,
          13.6,
          6.9,
          3.2,
          10.4,
          4.8,
          25.9,
          7.5,
          11.8,
          2.8,
          2,
          9.6,
          23.6,
          16.6,
          18.6,
          16.7,
          16.4,
          16.5,
          8.1,
          2,
          19.9,
          58.7,
          12.8,
          15.7,
          26.3,
          30.3,
          26.8,
          16,
          23.5,
          19.5,
          35.3,
          19.2,
          13.6,
          41.6,
          36.8,
          12.4,
          7.4,
          13.3,
          15.1,
          31.7,
          5.4,
          5.1,
          16.3,
          4.1,
          1.1,
          -0.3,
          -0.3,
          4.8,
          6.1,
          11.6,
          5.7,
          12.9,
          17.4,
          8.7,
          6.3,
          10.3,
          13.3,
          11.3,
          10.1,
          3.3,
          7.9,
          -1.4,
          2.6,
          5.8,
          4.1,
          6.9,
          3.7,
          12.4,
          59.2,
          11.4,
          16.1,
          14.4,
          9.3,
          -13.5,
          12.2,
          14.4,
          17.9,
          3.3,
          6.5,
          3.2,
          6.8,
          -6.7,
          19.3,
          13.2,
          12.9,
          12.5,
          -3.5,
          13.9,
          14.2,
          11.6,
          7.5,
          5,
          9.2,
          10.5,
          25.6,
          3.4,
          4.8,
          0.5,
          7.3,
          -2.6,
          -0.5,
          6.8,
          16.3,
          8.2,
          -5.1,
          9.5,
          4.5,
          32,
          12.2,
          16.1,
          6,
          11.6,
          16,
          11.5,
          8.6,
          18.8,
          7.5,
          8,
          15.7,
          7,
          -2.7,
          3.6,
          32.5,
          1.4,
          3.8,
          5.7,
          3.5,
          7.7,
          6.4,
          11.5,
          -0.3,
          7.2,
          5.6,
          8.8,
          13.8,
          6.5,
          5.7,
          7,
          7.7,
          5.5,
          6.2,
          5.3,
          7.5,
          7.8,
          10.1,
          3.2,
          6,
          11.4,
          10,
          8.2,
          8.7,
          14.6,
          13.9,
          15.5,
          14.2,
          32.9,
          24.6,
          24,
          21.2,
          15.4,
          10.8,
          5.9,
          6.6,
          13.9,
          8.1,
          19.8,
          21.4,
          26.1,
          5.3,
          20.5,
          55.1,
          10.4,
          13.9,
          14.9,
          9.9,
          19,
          21.2,
          7.3,
          24.5,
          18.5,
          26.2,
          27.4,
          22.9,
          17,
          23.4,
          24.7,
          13.9,
          13.7,
          18.6,
          27.9,
          16.9,
          44.9,
          17.6,
          19.5,
          24.5,
          28.9,
          40.8,
          13.7,
          6.2,
          19,
          22.8,
          31.2
         ],
         "yaxis": "y"
        }
       ],
       "layout": {
        "legend": {
         "tracegroupgap": 0
        },
        "margin": {
         "t": 60
        },
        "template": {
         "data": {
          "bar": [
           {
            "error_x": {
             "color": "#2a3f5f"
            },
            "error_y": {
             "color": "#2a3f5f"
            },
            "marker": {
             "line": {
              "color": "#E5ECF6",
              "width": 0.5
             },
             "pattern": {
              "fillmode": "overlay",
              "size": 10,
              "solidity": 0.2
             }
            },
            "type": "bar"
           }
          ],
          "barpolar": [
           {
            "marker": {
             "line": {
              "color": "#E5ECF6",
              "width": 0.5
             },
             "pattern": {
              "fillmode": "overlay",
              "size": 10,
              "solidity": 0.2
             }
            },
            "type": "barpolar"
           }
          ],
          "carpet": [
           {
            "aaxis": {
             "endlinecolor": "#2a3f5f",
             "gridcolor": "white",
             "linecolor": "white",
             "minorgridcolor": "white",
             "startlinecolor": "#2a3f5f"
            },
            "baxis": {
             "endlinecolor": "#2a3f5f",
             "gridcolor": "white",
             "linecolor": "white",
             "minorgridcolor": "white",
             "startlinecolor": "#2a3f5f"
            },
            "type": "carpet"
           }
          ],
          "choropleth": [
           {
            "colorbar": {
             "outlinewidth": 0,
             "ticks": ""
            },
            "type": "choropleth"
           }
          ],
          "contour": [
           {
            "colorbar": {
             "outlinewidth": 0,
             "ticks": ""
            },
            "colorscale": [
             [
              0,
              "#0d0887"
             ],
             [
              0.1111111111111111,
              "#46039f"
             ],
             [
              0.2222222222222222,
              "#7201a8"
             ],
             [
              0.3333333333333333,
              "#9c179e"
             ],
             [
              0.4444444444444444,
              "#bd3786"
             ],
             [
              0.5555555555555556,
              "#d8576b"
             ],
             [
              0.6666666666666666,
              "#ed7953"
             ],
             [
              0.7777777777777778,
              "#fb9f3a"
             ],
             [
              0.8888888888888888,
              "#fdca26"
             ],
             [
              1,
              "#f0f921"
             ]
            ],
            "type": "contour"
           }
          ],
          "contourcarpet": [
           {
            "colorbar": {
             "outlinewidth": 0,
             "ticks": ""
            },
            "type": "contourcarpet"
           }
          ],
          "heatmap": [
           {
            "colorbar": {
             "outlinewidth": 0,
             "ticks": ""
            },
            "colorscale": [
             [
              0,
              "#0d0887"
             ],
             [
              0.1111111111111111,
              "#46039f"
             ],
             [
              0.2222222222222222,
              "#7201a8"
             ],
             [
              0.3333333333333333,
              "#9c179e"
             ],
             [
              0.4444444444444444,
              "#bd3786"
             ],
             [
              0.5555555555555556,
              "#d8576b"
             ],
             [
              0.6666666666666666,
              "#ed7953"
             ],
             [
              0.7777777777777778,
              "#fb9f3a"
             ],
             [
              0.8888888888888888,
              "#fdca26"
             ],
             [
              1,
              "#f0f921"
             ]
            ],
            "type": "heatmap"
           }
          ],
          "heatmapgl": [
           {
            "colorbar": {
             "outlinewidth": 0,
             "ticks": ""
            },
            "colorscale": [
             [
              0,
              "#0d0887"
             ],
             [
              0.1111111111111111,
              "#46039f"
             ],
             [
              0.2222222222222222,
              "#7201a8"
             ],
             [
              0.3333333333333333,
              "#9c179e"
             ],
             [
              0.4444444444444444,
              "#bd3786"
             ],
             [
              0.5555555555555556,
              "#d8576b"
             ],
             [
              0.6666666666666666,
              "#ed7953"
             ],
             [
              0.7777777777777778,
              "#fb9f3a"
             ],
             [
              0.8888888888888888,
              "#fdca26"
             ],
             [
              1,
              "#f0f921"
             ]
            ],
            "type": "heatmapgl"
           }
          ],
          "histogram": [
           {
            "marker": {
             "pattern": {
              "fillmode": "overlay",
              "size": 10,
              "solidity": 0.2
             }
            },
            "type": "histogram"
           }
          ],
          "histogram2d": [
           {
            "colorbar": {
             "outlinewidth": 0,
             "ticks": ""
            },
            "colorscale": [
             [
              0,
              "#0d0887"
             ],
             [
              0.1111111111111111,
              "#46039f"
             ],
             [
              0.2222222222222222,
              "#7201a8"
             ],
             [
              0.3333333333333333,
              "#9c179e"
             ],
             [
              0.4444444444444444,
              "#bd3786"
             ],
             [
              0.5555555555555556,
              "#d8576b"
             ],
             [
              0.6666666666666666,
              "#ed7953"
             ],
             [
              0.7777777777777778,
              "#fb9f3a"
             ],
             [
              0.8888888888888888,
              "#fdca26"
             ],
             [
              1,
              "#f0f921"
             ]
            ],
            "type": "histogram2d"
           }
          ],
          "histogram2dcontour": [
           {
            "colorbar": {
             "outlinewidth": 0,
             "ticks": ""
            },
            "colorscale": [
             [
              0,
              "#0d0887"
             ],
             [
              0.1111111111111111,
              "#46039f"
             ],
             [
              0.2222222222222222,
              "#7201a8"
             ],
             [
              0.3333333333333333,
              "#9c179e"
             ],
             [
              0.4444444444444444,
              "#bd3786"
             ],
             [
              0.5555555555555556,
              "#d8576b"
             ],
             [
              0.6666666666666666,
              "#ed7953"
             ],
             [
              0.7777777777777778,
              "#fb9f3a"
             ],
             [
              0.8888888888888888,
              "#fdca26"
             ],
             [
              1,
              "#f0f921"
             ]
            ],
            "type": "histogram2dcontour"
           }
          ],
          "mesh3d": [
           {
            "colorbar": {
             "outlinewidth": 0,
             "ticks": ""
            },
            "type": "mesh3d"
           }
          ],
          "parcoords": [
           {
            "line": {
             "colorbar": {
              "outlinewidth": 0,
              "ticks": ""
             }
            },
            "type": "parcoords"
           }
          ],
          "pie": [
           {
            "automargin": true,
            "type": "pie"
           }
          ],
          "scatter": [
           {
            "fillpattern": {
             "fillmode": "overlay",
             "size": 10,
             "solidity": 0.2
            },
            "type": "scatter"
           }
          ],
          "scatter3d": [
           {
            "line": {
             "colorbar": {
              "outlinewidth": 0,
              "ticks": ""
             }
            },
            "marker": {
             "colorbar": {
              "outlinewidth": 0,
              "ticks": ""
             }
            },
            "type": "scatter3d"
           }
          ],
          "scattercarpet": [
           {
            "marker": {
             "colorbar": {
              "outlinewidth": 0,
              "ticks": ""
             }
            },
            "type": "scattercarpet"
           }
          ],
          "scattergeo": [
           {
            "marker": {
             "colorbar": {
              "outlinewidth": 0,
              "ticks": ""
             }
            },
            "type": "scattergeo"
           }
          ],
          "scattergl": [
           {
            "marker": {
             "colorbar": {
              "outlinewidth": 0,
              "ticks": ""
             }
            },
            "type": "scattergl"
           }
          ],
          "scattermapbox": [
           {
            "marker": {
             "colorbar": {
              "outlinewidth": 0,
              "ticks": ""
             }
            },
            "type": "scattermapbox"
           }
          ],
          "scatterpolar": [
           {
            "marker": {
             "colorbar": {
              "outlinewidth": 0,
              "ticks": ""
             }
            },
            "type": "scatterpolar"
           }
          ],
          "scatterpolargl": [
           {
            "marker": {
             "colorbar": {
              "outlinewidth": 0,
              "ticks": ""
             }
            },
            "type": "scatterpolargl"
           }
          ],
          "scatterternary": [
           {
            "marker": {
             "colorbar": {
              "outlinewidth": 0,
              "ticks": ""
             }
            },
            "type": "scatterternary"
           }
          ],
          "surface": [
           {
            "colorbar": {
             "outlinewidth": 0,
             "ticks": ""
            },
            "colorscale": [
             [
              0,
              "#0d0887"
             ],
             [
              0.1111111111111111,
              "#46039f"
             ],
             [
              0.2222222222222222,
              "#7201a8"
             ],
             [
              0.3333333333333333,
              "#9c179e"
             ],
             [
              0.4444444444444444,
              "#bd3786"
             ],
             [
              0.5555555555555556,
              "#d8576b"
             ],
             [
              0.6666666666666666,
              "#ed7953"
             ],
             [
              0.7777777777777778,
              "#fb9f3a"
             ],
             [
              0.8888888888888888,
              "#fdca26"
             ],
             [
              1,
              "#f0f921"
             ]
            ],
            "type": "surface"
           }
          ],
          "table": [
           {
            "cells": {
             "fill": {
              "color": "#EBF0F8"
             },
             "line": {
              "color": "white"
             }
            },
            "header": {
             "fill": {
              "color": "#C8D4E3"
             },
             "line": {
              "color": "white"
             }
            },
            "type": "table"
           }
          ]
         },
         "layout": {
          "annotationdefaults": {
           "arrowcolor": "#2a3f5f",
           "arrowhead": 0,
           "arrowwidth": 1
          },
          "autotypenumbers": "strict",
          "coloraxis": {
           "colorbar": {
            "outlinewidth": 0,
            "ticks": ""
           }
          },
          "colorscale": {
           "diverging": [
            [
             0,
             "#8e0152"
            ],
            [
             0.1,
             "#c51b7d"
            ],
            [
             0.2,
             "#de77ae"
            ],
            [
             0.3,
             "#f1b6da"
            ],
            [
             0.4,
             "#fde0ef"
            ],
            [
             0.5,
             "#f7f7f7"
            ],
            [
             0.6,
             "#e6f5d0"
            ],
            [
             0.7,
             "#b8e186"
            ],
            [
             0.8,
             "#7fbc41"
            ],
            [
             0.9,
             "#4d9221"
            ],
            [
             1,
             "#276419"
            ]
           ],
           "sequential": [
            [
             0,
             "#0d0887"
            ],
            [
             0.1111111111111111,
             "#46039f"
            ],
            [
             0.2222222222222222,
             "#7201a8"
            ],
            [
             0.3333333333333333,
             "#9c179e"
            ],
            [
             0.4444444444444444,
             "#bd3786"
            ],
            [
             0.5555555555555556,
             "#d8576b"
            ],
            [
             0.6666666666666666,
             "#ed7953"
            ],
            [
             0.7777777777777778,
             "#fb9f3a"
            ],
            [
             0.8888888888888888,
             "#fdca26"
            ],
            [
             1,
             "#f0f921"
            ]
           ],
           "sequentialminus": [
            [
             0,
             "#0d0887"
            ],
            [
             0.1111111111111111,
             "#46039f"
            ],
            [
             0.2222222222222222,
             "#7201a8"
            ],
            [
             0.3333333333333333,
             "#9c179e"
            ],
            [
             0.4444444444444444,
             "#bd3786"
            ],
            [
             0.5555555555555556,
             "#d8576b"
            ],
            [
             0.6666666666666666,
             "#ed7953"
            ],
            [
             0.7777777777777778,
             "#fb9f3a"
            ],
            [
             0.8888888888888888,
             "#fdca26"
            ],
            [
             1,
             "#f0f921"
            ]
           ]
          },
          "colorway": [
           "#636efa",
           "#EF553B",
           "#00cc96",
           "#ab63fa",
           "#FFA15A",
           "#19d3f3",
           "#FF6692",
           "#B6E880",
           "#FF97FF",
           "#FECB52"
          ],
          "font": {
           "color": "#2a3f5f"
          },
          "geo": {
           "bgcolor": "white",
           "lakecolor": "white",
           "landcolor": "#E5ECF6",
           "showlakes": true,
           "showland": true,
           "subunitcolor": "white"
          },
          "hoverlabel": {
           "align": "left"
          },
          "hovermode": "closest",
          "mapbox": {
           "style": "light"
          },
          "paper_bgcolor": "white",
          "plot_bgcolor": "#E5ECF6",
          "polar": {
           "angularaxis": {
            "gridcolor": "white",
            "linecolor": "white",
            "ticks": ""
           },
           "bgcolor": "#E5ECF6",
           "radialaxis": {
            "gridcolor": "white",
            "linecolor": "white",
            "ticks": ""
           }
          },
          "scene": {
           "xaxis": {
            "backgroundcolor": "#E5ECF6",
            "gridcolor": "white",
            "gridwidth": 2,
            "linecolor": "white",
            "showbackground": true,
            "ticks": "",
            "zerolinecolor": "white"
           },
           "yaxis": {
            "backgroundcolor": "#E5ECF6",
            "gridcolor": "white",
            "gridwidth": 2,
            "linecolor": "white",
            "showbackground": true,
            "ticks": "",
            "zerolinecolor": "white"
           },
           "zaxis": {
            "backgroundcolor": "#E5ECF6",
            "gridcolor": "white",
            "gridwidth": 2,
            "linecolor": "white",
            "showbackground": true,
            "ticks": "",
            "zerolinecolor": "white"
           }
          },
          "shapedefaults": {
           "line": {
            "color": "#2a3f5f"
           }
          },
          "ternary": {
           "aaxis": {
            "gridcolor": "white",
            "linecolor": "white",
            "ticks": ""
           },
           "baxis": {
            "gridcolor": "white",
            "linecolor": "white",
            "ticks": ""
           },
           "bgcolor": "#E5ECF6",
           "caxis": {
            "gridcolor": "white",
            "linecolor": "white",
            "ticks": ""
           }
          },
          "title": {
           "x": 0.05
          },
          "xaxis": {
           "automargin": true,
           "gridcolor": "white",
           "linecolor": "white",
           "ticks": "",
           "title": {
            "standoff": 15
           },
           "zerolinecolor": "white",
           "zerolinewidth": 2
          },
          "yaxis": {
           "automargin": true,
           "gridcolor": "white",
           "linecolor": "white",
           "ticks": "",
           "title": {
            "standoff": 15
           },
           "zerolinecolor": "white",
           "zerolinewidth": 2
          }
         }
        },
        "xaxis": {
         "anchor": "y",
         "domain": [
          0,
          1
         ],
         "title": {
          "text": "PT_INE_11"
         }
        },
        "yaxis": {
         "anchor": "x",
         "domain": [
          0,
          1
         ],
         "title": {
          "text": "diff_rel_11"
         }
        }
       }
      },
      "text/html": [
       "<div>                            <div id=\"90b4881a-f0dd-4f69-a242-fe4c28baa6d1\" class=\"plotly-graph-div\" style=\"height:525px; width:100%;\"></div>            <script type=\"text/javascript\">                require([\"plotly\"], function(Plotly) {                    window.PLOTLYENV=window.PLOTLYENV || {};                                    if (document.getElementById(\"90b4881a-f0dd-4f69-a242-fe4c28baa6d1\")) {                    Plotly.newPlot(                        \"90b4881a-f0dd-4f69-a242-fe4c28baa6d1\",                        [{\"customdata\":[[\"Agui\\u00e3\",871],[\"Pa\\u00e7\\u00f4\",1044],[\"Uni\\u00e3o das freguesias de Arcos de Valdevez (S\\u00e3o Paio) e Giela\",1826],[\"Uni\\u00e3o das freguesias de Arcos de Valdevez (Salvador), Vila Fonche e Parada\",2459],[\"Uni\\u00e3o das freguesias de Guilhadeses e Santar\",1173],[\"\\u00c2ncora\",1091],[\"Uni\\u00e3o das freguesias de Caminha (Matriz) e Vilarelho\",2519],[\"Uni\\u00e3o das freguesias de Venade e Azevedo\",979],[\"Vila Praia de \\u00c2ncora\",4949],[\"Paderne\",1511],[\"Uni\\u00e3o das freguesias de Prado e Remo\\u00e3es\",661],[\"Bela\",748],[\"Uni\\u00e3o das freguesias de Mazedo e Cortes\",2843],[\"Uni\\u00e3o das freguesias de Mon\\u00e7\\u00e3o e Troviscoso\",3612],[\"Segude\",452],[\"Uni\\u00e3o das freguesias de Ponte da Barca, Vila Nova de Mu\\u00eda e Pa\\u00e7o Vedro de Magalh\\u00e3es\",4385],[\"Arcozelo\",3423],[\"Bertiandos\",410],[\"Correlh\\u00e3\",2657],[\"Feitosa\",935],[\"Font\\u00e3o\",1058],[\"Santa Comba\",535],[\"Arca e Ponte de Lima\",3457],[\"Ganfei\",1201],[\"Uni\\u00e3o das freguesias de Valen\\u00e7a, Cristelo Covo e Ar\\u00e3o\",4787],[\"Alvar\\u00e3es\",2939],[\"Uni\\u00e3o das freguesias de Barroselas e Carvoeiro\",5107],[\"Castelo do Neiva\",3470],[\"Chaf\\u00e9\",3017],[\"Areosa\",4406],[\"Darque\",7305],[\"Santa Marta de Portuzelo\",3645],[\"Uni\\u00e3o das freguesias de Viana do Castelo (Santa Maria Maior e Monserrate) e Meadela\",23372],[\"Vila de Punhe\",2446],[\"Gondar\\u00e9m\",978],[\"Loivo\",911],[\"Uni\\u00e3o das freguesias de Campos e Vila Me\\u00e3\",1426],[\"Uni\\u00e3o das freguesias de Reboreda e Nogueira\",950],[\"Uni\\u00e3o das freguesias de Vila Nova de Cerveira e Lovelhe\",1882],[\"Uni\\u00e3o das freguesias de Amares e Figueiredo\",2754],[\"Uni\\u00e3o das freguesias de Ferreiros, Prozelo e Besteiros\",4378],[\"Lago\",1797],[\"Balug\\u00e3es\",777],[\"Alvelos\",1909],[\"Arcozelo\",10543],[\"Barcelinhos\",1652],[\"Carape\\u00e7os\",1932],[\"Carvalhal\",1295],[\"Lij\\u00f3\",2032],[\"Manhente\",1658],[\"Rio Covo (Santa Eug\\u00e9nia)\",1378],[\"Galegos (Santa Maria)\",2552],[\"Galegos (S\\u00e3o Martinho)\",1784],[\"Tamel (S\\u00e3o Ver\\u00edssimo)\",2724],[\"V\\u00e1rzea\",1536],[\"Uni\\u00e3o das freguesias de Barcelos, Vila Boa e Vila Frescainha (S\\u00e3o Martinho e S\\u00e3o Pedro)\",9813],[\"Martim\",2062],[\"Espor\\u00f5es\",1567],[\"Figueiredo\",1073],[\"Gualtar\",4242],[\"Lamas\",647],[\"Mire de Tib\\u00e3es\",2214],[\"Padim da Gra\\u00e7a\",1518],[\"Palmeira\",4982],[\"Ruilhe\",1091],[\"Braga (S\\u00e3o Vicente)\",10480],[\"Braga (S\\u00e3o V\\u00edtor)\",23261],[\"Tadim\",948],[\"Uni\\u00e3o das freguesias de Braga (Maximinos, S\\u00e9 e Cividade)\",13480],[\"Uni\\u00e3o das freguesias de Braga (S\\u00e3o Jos\\u00e9 de S\\u00e3o L\\u00e1zaro e S\\u00e3o Jo\\u00e3o do Souto)\",13161],[\"Uni\\u00e3o das freguesias de Cabreiros e Passos (S\\u00e3o Juli\\u00e3o)\",2185],[\"Uni\\u00e3o das freguesias de Celeir\\u00f3s, Aveleda e Vimieiro\",5955],[\"Uni\\u00e3o das freguesias de Este (S\\u00e3o Pedro e S\\u00e3o Mamede)\",3476],[\"Uni\\u00e3o das freguesias de Ferreiros e Gondizalves\",7677],[\"Uni\\u00e3o das freguesias de Lomar e Arcos\",5490],[\"Uni\\u00e3o das freguesias de Merelim (S\\u00e3o Paio), Panoias e Parada de Tib\\u00e3es\",4278],[\"Uni\\u00e3o das freguesias de Merelim (S\\u00e3o Pedro) e Frossos\",3474],[\"Uni\\u00e3o das freguesias de Morreira e Trandeiras\",1384],[\"Uni\\u00e3o das freguesias de Nogueira, Frai\\u00e3o e Lama\\u00e7\\u00e3es\",11325],[\"Uni\\u00e3o das freguesias de Nogueir\\u00f3 e Ten\\u00f5es\",3713],[\"Uni\\u00e3o das freguesias de Real, Dume e Semelhe\",9534],[\"Uni\\u00e3o das freguesias de Vila\\u00e7a e Fradelos\",1505],[\"Antas\",2123],[\"Forj\\u00e3es\",2567],[\"Gemeses\",1124],[\"Vila Ch\\u00e3\",1561],[\"Uni\\u00e3o das freguesias de Ap\\u00falia e F\\u00e3o\",7104],[\"Uni\\u00e3o das freguesias de Belinho e Mar\",2217],[\"Uni\\u00e3o das freguesias de Esposende, Marinhas e Gandra\",11748],[\"Uni\\u00e3o das freguesias de Fonte Boa e Rio Tinto\",1798],[\"Uni\\u00e3o das freguesias de Palmeira de Faro e Curvos\",3030],[\"Lage\",2482],[\"Loureira\",1072],[\"Vila de Prado\",4134],[\"Turiz\",1538],[\"Vila Verde e Barbudo\",6088],[\"Fafe\",14710],[\"Fornelos\",1392],[\"Gol\\u00e3es\",2150],[\"Medelo\",1285],[\"Ar\\u00f5es (Santa Cristina)\",1270],[\"Ar\\u00f5es (S\\u00e3o Rom\\u00e3o)\",3114],[\"Guardizela\",2133],[\"Serzedelo\",3492],[\"Ald\\u00e3o\",1161],[\"Azur\\u00e9m\",7599],[\"Brito\",4198],[\"Costa\",3489],[\"Creixomil\",8173],[\"Ferment\\u00f5es\",4657],[\"Gondar\",2556],[\"Lordelo\",3870],[\"Mes\\u00e3o Frio\",3785],[\"Moreira de C\\u00f3negos\",4632],[\"Nespereira\",2331],[\"Pencelo\",1130],[\"Pinheiro\",1057],[\"Polvoreira\",3388],[\"Ponte\",5608],[\"Ronfe\",4110],[\"Selho (S\\u00e3o Crist\\u00f3v\\u00e3o)\",2186],[\"Selho (S\\u00e3o Jorge)\",5148],[\"Candoso (S\\u00e3o Martinho)\",1267],[\"Silvares\",2017],[\"Urgezes\",4781],[\"Uni\\u00e3o das freguesias de Aba\\u00e7\\u00e3o e G\\u00e9meos\",2303],[\"Uni\\u00e3o das freguesias de Air\\u00e3o Santa Maria, Air\\u00e3o S\\u00e3o Jo\\u00e3o e Vermil\",3442],[\"Uni\\u00e3o das freguesias de Candoso S\\u00e3o Tiago e Mascotelos\",2888],[\"Uni\\u00e3o das freguesias de Conde e Gandarela\",2192],[\"Uni\\u00e3o das freguesias de Oliveira, S\\u00e3o Paio e S\\u00e3o Sebasti\\u00e3o\",8209],[\"Uni\\u00e3o das freguesias de Sande Vila Nova e Sande S\\u00e3o Clemente\",3255],[\"Uni\\u00e3o das freguesias de Selho S\\u00e3o Louren\\u00e7o e Gominh\\u00e3es\",2101],[\"Uni\\u00e3o das freguesias de Serzedo e Calvos\",2069],[\"Uni\\u00e3o das freguesias de Tabuadelo e S\\u00e3o Faustino\",2307],[\"Barco\",1320],[\"Caldelas\",5609],[\"Prazins (Santa Euf\\u00e9mia)\",1126],[\"Sande (S\\u00e3o Martinho)\",2641],[\"P\\u00f3voa de Lanhoso (Nossa Senhora do Amparo)\",5069],[\"Joane\",6812],[\"Mogege\",1752],[\"Pousada de Saramagos\",1987],[\"Lousado\",3419],[\"Ribeir\\u00e3o\",7388],[\"Bairro\",3320],[\"Castel\\u00f5es\",1713],[\"Del\\u00e3es\",3672],[\"Landim\",2758],[\"Pedome\",2120],[\"Riba de Ave\",3238],[\"Oliveira (Santa Maria)\",3269],[\"Oliveira (S\\u00e3o Mateus)\",2455],[\"Uni\\u00e3o das freguesias de Avidos e Lagoa\",2257],[\"Uni\\u00e3o das freguesias de Carreira e Bente\",2527],[\"Uni\\u00e3o das freguesias de Ruiv\\u00e3es e Novais\",2902],[\"Uni\\u00e3o das freguesias de Seide\",1462],[\"Brufe\",2045],[\"Gavi\\u00e3o\",3448],[\"Nine\",2536],[\"Requi\\u00e3o\",2830],[\"Vale (S\\u00e3o Martinho)\",1799],[\"Vermoim\",2693],[\"Uni\\u00e3o das freguesias de Antas e Abade de Vermoim\",5480],[\"Uni\\u00e3o das freguesias de Arnoso (Santa Maria e Santa Eul\\u00e1lia) e Sezures\",3165],[\"Uni\\u00e3o das freguesias de Esmeriz e Cabe\\u00e7udos\",3035],[\"Uni\\u00e3o das freguesias de Vale (S\\u00e3o Cosme), Telhado e Portela\",4797],[\"Uni\\u00e3o das freguesias de Vila Nova de Famalic\\u00e3o e Calend\\u00e1rio\",17103],[\"Santa Eul\\u00e1lia\",4628],[\"Infias\",1569],[\"Vizela (Santo Adri\\u00e3o)\",2022],[\"Uni\\u00e3o das freguesias de Caldas de Vizela (S\\u00e3o Miguel e S\\u00e3o Jo\\u00e3o)\",9454],[\"Uni\\u00e3o das freguesias de Tagilde e Vizela (S\\u00e3o Paio)\",2771],[\"Reguenga\",1375],[\"Uni\\u00e3o das freguesias de Areias, Sequeir\\u00f3, Lama e Palmeira\",6290],[\"Uni\\u00e3o das freguesias de Santo Tirso, Couto (Santa Cristina e S\\u00e3o Miguel) e Burg\\u00e3es\",19179],[\"Aves\",7795],[\"Rebord\\u00f5es\",3196],[\"Roriz\",3442],[\"Negrelos (S\\u00e3o Tom\\u00e9)\",3558],[\"Vilarinho\",3344],[\"Uni\\u00e3o das freguesias de Campo (S\\u00e3o Martinho), S\\u00e3o Salvador do Campo e Negrelos (S\\u00e3o Mamede)\",6113],[\"Uni\\u00e3o das freguesias de Bougado (S\\u00e3o Martinho e Santiago)\",18546],[\"Uni\\u00e3o das freguesias de Coronado (S\\u00e3o Rom\\u00e3o e S\\u00e3o Mamede)\",7620],[\"Espinho\",10578],[\"Paramos\",3305],[\"Silvalde\",6215],[\"Uni\\u00e3o das freguesias de Anta e Guetim\",10972],[\"Uni\\u00e3o das freguesias de Gondomar (S\\u00e3o Cosme), Valbom e Jovim\",41520],[\"Rio Tinto\",42952],[\"Baguim do Monte (Rio Tinto)\",11971],[\"Uni\\u00e3o das freguesias de F\\u00e2nzeres e S\\u00e3o Pedro da Cova\",33026],[\"\\u00c1guas Santas\",21697],[\"Milheir\\u00f3s\",3954],[\"Moreira\",10162],[\"S\\u00e3o Pedro Fins\",1658],[\"Vila Nova da Telha\",4917],[\"Pedrou\\u00e7os\",9847],[\"Cast\\u00ealo da Maia\",25432],[\"Cidade da Maia\",22698],[\"Nogueira e Silva Escura\",6586],[\"Uni\\u00e3o das freguesias de Cust\\u00f3ias, Le\\u00e7a do Balio e Guif\\u00f5es\",36339],[\"Uni\\u00e3o das freguesias de Matosinhos e Le\\u00e7a da Palmeira\",43314],[\"Uni\\u00e3o das freguesias de Perafita, Lavra e Santa Cruz do Bispo\",25589],[\"Uni\\u00e3o das freguesias de S\\u00e3o Mamede de Infesta e Senhora da Hora\",43232],[\"Bonfim\",23855],[\"Campanh\\u00e3\",31609],[\"Paranhos\",41570],[\"Ramalde\",32619],[\"Uni\\u00e3o das freguesias de Aldoar, Foz do Douro e Nevogilde\",26303],[\"Uni\\u00e3o das freguesias de Cedofeita, Santo Ildefonso, S\\u00e9, Miragaia, S\\u00e3o Nicolau e Vit\\u00f3ria\",42128],[\"Uni\\u00e3o das freguesias de Lordelo do Ouro e Massarelos\",25399],[\"Uni\\u00e3o das freguesias de Aver-o-Mar, Amorim e Terroso\",12024],[\"Uni\\u00e3o das freguesias de Agu\\u00e7adoura e Navais\",5744],[\"Uni\\u00e3o das freguesias da P\\u00f3voa de Varzim, Beiriz e Argivai\",32355],[\"Alfena\",12569],[\"Ermesinde\",34341],[\"Valongo\",18760],[\"Uni\\u00e3o das freguesias de Campo e Sobrado\",13791],[\"\\u00c1rvore\",4355],[\"Guilhabreu\",2058],[\"Labruge\",2367],[\"Macieira da Maia\",1895],[\"Mindelo\",3085],[\"Modivas\",1605],[\"Vila Ch\\u00e3\",2754],[\"Vilar de Pinheiro\",2173],[\"Uni\\u00e3o das freguesias de Malta e Canidelo\",1954],[\"Azurara\",1764],[\"Vila do Conde\",24460],[\"Arcozelo\",12217],[\"Avintes\",10101],[\"Canelas\",10873],[\"Canidelo\",22680],[\"Madalena\",8573],[\"Oliveira do Douro\",20039],[\"S\\u00e3o F\\u00e9lix da Marinha\",10475],[\"Vilar de Andorinho\",14293],[\"Uni\\u00e3o das freguesias de Grij\\u00f3 e Sermonde\",10117],[\"Uni\\u00e3o das freguesias de Gulpilhares e Valadares\",18266],[\"Uni\\u00e3o das freguesias de Mafamude e Vilar do Para\\u00edso\",45075],[\"Uni\\u00e3o das freguesias de Pedroso e Seixezelo\",17540],[\"Uni\\u00e3o das freguesias de Sandim, Olival, Lever e Crestuma\",15766],[\"Uni\\u00e3o das freguesias de Santa Marinha e S\\u00e3o Pedro da Afurada\",29241],[\"Uni\\u00e3o das freguesias de Serzedo e Perosinho\",11797],[\"Fornos\",1318],[\"S\\u00e3o Martinho de Sardoura\",1684],[\"Uni\\u00e3o das freguesias de Sobrado e Bairros\",4072],[\"Uni\\u00e3o das freguesias de Arco de Ba\\u00falhe e Vila Nune\",2086],[\"Uni\\u00e3o das freguesias de Refojos de Basto, Outeiro e Painzela\",5999],[\"Uni\\u00e3o das freguesias de Amarante (S\\u00e3o Gon\\u00e7alo), Madalena, Cepelos e Gat\\u00e3o\",10758],[\"Uni\\u00e3o das freguesias de Figueir\\u00f3 (Santiago e Santa Cristina)\",3974],[\"Uni\\u00e3o das freguesias de Freixo de Cima e de Baixo\",3406],[\"Uni\\u00e3o das freguesias de Real, Ata\\u00edde e Oliveira\",4653],[\"Friande\",1377],[\"Pombeiro de Ribavizela\",2003],[\"Refontoura\",1800],[\"Revinhade\",587],[\"Uni\\u00e3o das freguesias de Margaride (Santa Eul\\u00e1lia), V\\u00e1rzea, Lagares, Varziela e Moure\",15521],[\"Uni\\u00e3o das freguesias de Pedreira, Rande e Sernande\",2995],[\"Uni\\u00e3o das freguesias de Torrados e Sousa\",3095],[\"Air\\u00e3es\",2397],[\"Uni\\u00e3o das freguesias de Macieira da Lixa e Caramos\",3519],[\"Uni\\u00e3o das freguesias de Vila Cova da Lixa e Borba de Godim\",5429],[\"Uni\\u00e3o das freguesias de Vila Verde e Sant\\u00e3o\",1497],[\"Uni\\u00e3o das freguesias de Vila Fria e Vizela (S\\u00e3o Jorge)\",1092],[\"Aveleda\",1540],[\"Ca\\u00edde de Rei\",2353],[\"Lodares\",1616],[\"Macieira\",1293],[\"Meinedo\",3478],[\"Nevogilde\",2106],[\"Torno\",2298],[\"Vilar do Torno e Alent\\u00e9m\",1202],[\"Uni\\u00e3o das freguesias de Cernadelo e Lousada (S\\u00e3o Miguel e Santa Margarida)\",1883],[\"Uni\\u00e3o das freguesias de Cristelos, Boim e Ordem\",5792],[\"Uni\\u00e3o das freguesias de Figueiras e Covas\",1691],[\"Uni\\u00e3o das freguesias de Nespereira e Casais\",2949],[\"Uni\\u00e3o das freguesias de Silvares, Pias, Nogueira e Alvarenga\",4893],[\"Uni\\u00e3o das freguesias de Lustosa e Barrosas (Santo Est\\u00eav\\u00e3o)\",4676],[\"Alpendorada, V\\u00e1rzea e Torr\\u00e3o\",9019],[\"Santo Isidoro e Livra\\u00e7\\u00e3o\",1917],[\"Marco\",9219],[\"Freamunde\",6415],[\"Carvalhosa\",3676],[\"Eiriz\",1805],[\"Ferreira\",3502],[\"Figueir\\u00f3\",1989],[\"Meixomil\",2966],[\"Penamaior\",3121],[\"Raimonda\",2147],[\"Seroa\",2951],[\"Fraz\\u00e3o Arreigada\",5336],[\"Pa\\u00e7os de Ferreira\",7556],[\"Sanfins Lamoso Codessos\",4740],[\"Baltar\",4061],[\"Cete\",2485],[\"Vandoma\",1953],[\"Parada de Todeia\",1518],[\"Astromil\",809],[\"Gandra\",5528],[\"Lordelo\",8660],[\"Vilela\",4203],[\"Beire\",1776],[\"Cristelo\",1504],[\"Duas Igrejas\",3020],[\"Louredo\",1179],[\"Sobrosa\",2309],[\"Paredes\",16307],[\"Rebordosa\",7595],[\"Castel\\u00f5es\",1285],[\"Galegos\",2246],[\"Irivo\",1824],[\"Oldr\\u00f5es\",1653],[\"Rans\",1482],[\"Penafiel\",13133],[\"Guilhufe e Urr\\u00f4\",3444],[\"Rio de Moinhos\",2607],[\"Termas de S\\u00e3o Vicente\",4316],[\"Resende\",2762],[\"Uni\\u00e3o das freguesias de Arouca e Burgo\",4636],[\"Fi\\u00e3es\",7319],[\"Lourosa\",8162],[\"Argoncilhe\",7408],[\"Arrifana\",5740],[\"Escap\\u00e3es\",2931],[\"Fornos\",2853],[\"Milheir\\u00f3s de Poiares\",3289],[\"Mozelos\",6138],[\"Nogueira da Regedoura\",4793],[\"S\\u00e3o Paio de Oleiros\",3593],[\"Pa\\u00e7os de Brand\\u00e3o\",4378],[\"Rio Me\\u00e3o\",4406],[\"Sanguedo\",3061],[\"Santa Maria de Lamas\",4704],[\"S\\u00e3o Jo\\u00e3o de Ver\",8562],[\"Uni\\u00e3o das freguesias de Caldas de S\\u00e3o Jorge e Pigeiros\",3662],[\"Uni\\u00e3o das freguesias de Canedo, Vale e Vila Maior\",8959],[\"Uni\\u00e3o das freguesias de Lob\\u00e3o, Gi\\u00e3o, Louredo e Guisande\",9623],[\"Uni\\u00e3o das freguesias de Santa Maria da Feira, Travanca, Sanfins e Espargo\",15596],[\"Cesar\",2778],[\"Faj\\u00f5es\",2829],[\"Loureiro\",3085],[\"Macieira de Sarnes\",1750],[\"S\\u00e3o Roque\",4628],[\"Vila de Cucuj\\u00e3es\",9980],[\"Uni\\u00e3o das freguesias de Nogueira do Cravo e Pindelo\",4766],[\"Uni\\u00e3o das freguesias de Oliveira de Azem\\u00e9is, Santiago de Riba-Ul, Ul, Macinhata da Seixa e Madail\",17826],[\"S\\u00e3o Jo\\u00e3o da Madeira\",20236],[\"Uni\\u00e3o das freguesias de Vila Ch\\u00e3, Codal e Vila Cova de Perrinho\",4950],[\"Uni\\u00e3o das freguesias de Peso da R\\u00e9gua e Godim\",9033],[\"Sabrosa\",1092],[\"Arroios\",955],[\"Folhadela\",2023],[\"Lordelo\",2578],[\"Mateus\",2474],[\"Parada de Cunhos\",1716],[\"Uni\\u00e3o das freguesias de Borbela e Lamas de Olo\",2793],[\"Uni\\u00e3o das freguesias de Constantim e Vale de Nogueiras\",2023],[\"Uni\\u00e3o das freguesias de Vila Real (Nossa Senhora da Concei\\u00e7\\u00e3o, S\\u00e3o Pedro e S\\u00e3o Dinis)\",15194],[\"Armamar\",1316],[\"Lamego (Almacave e S\\u00e9)\",11116],[\"Uni\\u00e3o das freguesias de Tarouca e D\\u00e1lvares\",4024],[\"Castro de Avel\\u00e3s\",328],[\"Samil\",967],[\"Uni\\u00e3o das freguesias de S\\u00e9, Santa Maria e Meixedo\",19733],[\"Amendoeira\",461],[\"Carrapatas\",249],[\"Grij\\u00f3\",518],[\"Macedo de Cavaleiros\",5875],[\"Sezulfe\",358],[\"Vale Benfeito\",264],[\"Vale da Porca\",373],[\"Vale de Prados\",462],[\"Uni\\u00e3o das freguesias de Castel\\u00e3os e Vilar do Monte\",550],[\"Mirandela\",10139],[\"Outeiro Seco\",890],[\"Vilar de Nantes\",1845],[\"Santa Maria Maior\",11798],[\"Uni\\u00e3o das freguesias da Madalena e Samai\\u00f5es\",3728],[\"Uni\\u00e3o das freguesias de Santa Cruz/Trindade e Sanjurge\",3363],[\"Albufeira e Olhos de \\u00c1gua\",20355],[\"Ferreiras\",4621],[\"Uni\\u00e3o das freguesias de Faro (S\\u00e9 e S\\u00e3o Pedro)\",39559],[\"Montenegro\",6138],[\"Uni\\u00e3o das freguesias de Lagoa e Carvoeiro\",7664],[\"Uni\\u00e3o das freguesias de Lagos (S\\u00e3o Sebasti\\u00e3o e Santa Maria)\",16840],[\"Almancil\",7126],[\"Loul\\u00e9 (S\\u00e3o Clemente)\",13946],[\"Quarteira\",17005],[\"Olh\\u00e3o\",13117],[\"Quelfes\",13139],[\"Alvor\",4471],[\"Portim\\u00e3o\",37208],[\"S\\u00e3o Br\\u00e1s de Alportel\",8821],[\"Arma\\u00e7\\u00e3o de P\\u00eara\",4123],[\"Silves\",9160],[\"Uni\\u00e3o das freguesias de Tavira (Santa Maria e Santiago)\",12409],[\"Monte Gordo\",3192],[\"Vila Real de Santo Ant\\u00f3nio\",10248],[\"Uni\\u00e3o das freguesias de \\u00c1gueda e Borralha\",12379],[\"Uni\\u00e3o das freguesias de Recard\\u00e3es e Espinhel\",5376],[\"Fermentelos\",2850],[\"Uni\\u00e3o das freguesias de Barr\\u00f4 e Aguada de Baixo\",3254],[\"Uni\\u00e3o das freguesias de Trofa, Segad\\u00e3es e Lamas do Vouga\",4135],[\"Albergaria-a-Velha e Valmaior\",9257],[\"Branca\",4997],[\"Uni\\u00e3o das freguesias de Arcos e Mogofores\",5754],[\"Aradas\",7694],[\"Esgueira\",11190],[\"S\\u00e3o Bernardo\",4253],[\"Santa Joana\",7385],[\"Uni\\u00e3o das freguesias de Gl\\u00f3ria e Vera Cruz\",17291],[\"Salreu\",3532],[\"Uni\\u00e3o das freguesias de Bedu\\u00eddo e Veiros\",9279],[\"Gafanha da Encarna\\u00e7\\u00e3o\",5081],[\"\\u00cdlhavo (S\\u00e3o Salvador)\",15103],[\"Gafanha da Nazar\\u00e9\",13425],[\"Uni\\u00e3o das freguesias da Mealhada, Ventosa do Bairro e Antes\",5794],[\"Pampilhosa\",3611],[\"Monte\",1545],[\"Torreira\",2632],[\"Oliveira do Bairro\",5512],[\"Cortega\\u00e7a\",3398],[\"Esmoriz\",10240],[\"Uni\\u00e3o das freguesias de Ovar, S\\u00e3o Jo\\u00e3o, Arada e S\\u00e3o Vicente de Pereira Jus\\u00e3\",26276],[\"Sever do Vouga\",2375],[\"Uni\\u00e3o das freguesias de Ponte de Vagos e Santa Catarina\",2899],[\"Uni\\u00e3o das freguesias de Vagos e Santo Ant\\u00f3nio\",5670],[\"Uni\\u00e3o das freguesias de Cantanhede e Pocari\\u00e7a\",7937],[\"Ceira\",3595],[\"Santo Ant\\u00f3nio dos Olivais\",34525],[\"Uni\\u00e3o das freguesias de Assafarge e Antanhol\",4446],[\"Uni\\u00e3o das freguesias de Coimbra (S\\u00e9 Nova, Santa Cruz, Almedina e S\\u00e3o Bartolomeu)\",14066],[\"Uni\\u00e3o das freguesias de Eiras e S\\u00e3o Paulo de Frades\",15269],[\"Uni\\u00e3o das freguesias de Santa Clara e Castelo Viegas\",10643],[\"Uni\\u00e3o das freguesias de S\\u00e3o Martinho do Bispo e Ribeira de Frades\",14063],[\"Uni\\u00e3o das freguesias de Taveiro, Ameal e Arzila\",3783],[\"Uni\\u00e3o das freguesias de Trouxemil e Torre de Vilela\",3576],[\"S\\u00e3o Jo\\u00e3o do Campo\",1889],[\"S\\u00e3o Silvestre\",2681],[\"Uni\\u00e3o das freguesias de Condeixa-a-Velha e Condeixa-a-Nova\",6146],[\"Uni\\u00e3o das freguesias de Sebal e Belide\",2380],[\"Tavarede\",7998],[\"S\\u00e3o Pedro\",2677],[\"Buarcos\",17978],[\"Mira\",7481],[\"Granja do Ulmeiro\",1619],[\"Soure\",7686],[\"Batalha\",7057],[\"Arrabal\",2532],[\"Uni\\u00e3o das freguesias de Leiria, Pousos, Barreira e Cortes\",26906],[\"Uni\\u00e3o das freguesias de Marrazes e Barosa\",19499],[\"Uni\\u00e3o das freguesias de Parceiros e Azoia\",5834],[\"Maceira\",8879],[\"Uni\\u00e3o das freguesias de Santa Euf\\u00e9mia e Boa Vista\",3999],[\"Marinha Grande\",26429],[\"Meirinhas\",1598],[\"Pombal\",15819],[\"Porto de M\\u00f3s - S\\u00e3o Jo\\u00e3o Baptista e S\\u00e3o Pedro\",5208],[\"Uni\\u00e3o das freguesias de Lous\\u00e3 e Vilarinho\",11048],[\"Miranda do Corvo\",6240],[\"Uni\\u00e3o das freguesias de Oliveira do Hospital e S\\u00e3o Paio de Grama\\u00e7os\",4908],[\"T\\u00e1bua\",2686],[\"Poiares (Santo Andr\\u00e9)\",3426],[\"Uni\\u00e3o das freguesias de Mangualde, Mesquitela e Cunha Alta\",9912],[\"Nelas\",4230],[\"Uni\\u00e3o das freguesias de Oliveira de Frades, Souto de Laf\\u00f5es e Sej\\u00e3es\",3209],[\"\\u00cdnsua\",2022],[\"S\\u00e3o Joaninho\",1150],[\"Uni\\u00e3o das freguesias de Santa Comba D\\u00e3o e Couto do Mosteiro\",4325],[\"Uni\\u00e3o das freguesias de S\\u00e3o Pedro do Sul, V\\u00e1rzea e Bai\\u00f5es\",5219],[\"S\\u00e1t\\u00e3o\",3977],[\"Campo de Besteiros\",1394],[\"Castel\\u00f5es\",1689],[\"Parada de Gonta\",987],[\"Canas de Santa Maria\",1771],[\"Molelos\",2636],[\"Uni\\u00e3o das freguesias de Tondela e Nandufe\",4517],[\"Uni\\u00e3o das freguesias de Fa\\u00edl e Vila Ch\\u00e3 de S\\u00e1\",2599],[\"Abraveses\",7882],[\"Campo\",4987],[\"Mund\\u00e3o\",2048],[\"Orgens\",3238],[\"Ranhados\",3779],[\"Rio de Loba\",7756],[\"S\\u00e3o Jo\\u00e3o de Lourosa\",4254],[\"Uni\\u00e3o das freguesias de Repeses e S\\u00e3o Salvador\",4953],[\"Uni\\u00e3o das freguesias de Viseu\",21516],[\"Sert\\u00e3\",5290],[\"Uni\\u00e3o das freguesias de Seia, S\\u00e3o Rom\\u00e3o e Lapa dos Dinheiros\",9006],[\"Uni\\u00e3o das freguesias de Santa Marinha e S\\u00e3o Martinho\",1768],[\"Vilar Formoso\",2167],[\"Guarda\",22258],[\"Castelo Branco\",29556],[\"Tortosendo\",5061],[\"Uni\\u00e3o das freguesias de Covilh\\u00e3 e Canhoso\",17735],[\"Uni\\u00e3o das freguesias de Fund\\u00e3o, Valverde, Donas, Aldeia de Joanes e Aldeia Nova do Cabo\",11671],[\"Uni\\u00e3o das freguesias de Alcoba\\u00e7a e Vestiaria\",6168],[\"Benedita\",7177],[\"Roli\\u00e7a\",2500],[\"Uni\\u00e3o das freguesias do Bombarral e Vale Covo\",6407],[\"Uni\\u00e3o das freguesias de Caldas da Rainha - Nossa Senhora do P\\u00f3pulo, Coto e S\\u00e3o Greg\\u00f3rio\",15372],[\"Uni\\u00e3o das freguesias de Caldas da Rainha - Santo Onofre e Serra do Bouro\",10116],[\"Foz do Arelho\",1233],[\"Nazar\\u00e9\",10076],[\"Atouguia da Baleia\",7860],[\"Peniche\",13726],[\"Serra d'El-Rei\",1288],[\"Uni\\u00e3o das freguesias de Alenquer (Santo Est\\u00eav\\u00e3o e Triana)\",8284],[\"Uni\\u00e3o das freguesias de Carregado e Cadafais\",9505],[\"Arruda dos Vinhos\",6390],[\"Ribamar\",1835],[\"Uni\\u00e3o das freguesias de Lourinh\\u00e3 e Atalaia\",10449],[\"Sobral de Monte Agra\\u00e7o\",2723],[\"Ponte do Rol\",1943],[\"Silveira\",6985],[\"Uni\\u00e3o das freguesias de Torres Vedras (S\\u00e3o Pedro, Santiago, Santa Maria do Castelo e S\\u00e3o Miguel) e Matac\\u00e3es\",21585],[\"Turcifal\",2604],[\"Uni\\u00e3o das freguesias de A dos Cunhados e Maceira\",8453],[\"Uni\\u00e3o das freguesias de Carvoeira e Carm\\u00f5es\",2115],[\"Uni\\u00e3o das freguesias de Abrantes (S\\u00e3o Vicente e S\\u00e3o Jo\\u00e3o) e Alferrarede\",14568],[\"Uni\\u00e3o das freguesias de S\\u00e3o Miguel do Rio Torto e Rossio ao Sul do Tejo\",4658],[\"Uni\\u00e3o das freguesias de Alcanena e Vila Moreira\",4566],[\"Const\\u00e2ncia\",834],[\"S\\u00e3o Jo\\u00e3o Baptista\",7135],[\"Uni\\u00e3o das freguesias de Tomar (S\\u00e3o Jo\\u00e3o Baptista) e Santa Maria dos Olivais\",16765],[\"Riachos\",4612],[\"Uni\\u00e3o das freguesias de Torres Novas (Santa Maria, Salvador e Santiago)\",6832],[\"Uni\\u00e3o das freguesias de Torres Novas (S\\u00e3o Pedro), Lapas e Ribeira Branca\",7746],[\"Vila Nova da Barquinha\",3144],[\"Caxarias\",2181],[\"F\\u00e1tima\",9311],[\"Nossa Senhora da Piedade\",6147],[\"Alcabideche\",31253],[\"S\\u00e3o Domingos de Rana\",43394],[\"Uni\\u00e3o das freguesias de Carcavelos e Parede\",37450],[\"Uni\\u00e3o das freguesias de Cascais e Estoril\",55520],[\"Ajuda\",14991],[\"Alc\\u00e2ntara\",13268],[\"Beato\",11750],[\"Benfica\",35634],[\"Campolide\",13913],[\"Carnide\",16359],[\"Lumiar\",36279],[\"Marvila\",36307],[\"Olivais\",44569],[\"S\\u00e3o Domingos de Benfica\",30370],[\"Alvalade\",30334],[\"Areeiro\",20524],[\"Arroios\",30812],[\"Avenidas Novas\",22039],[\"Bel\\u00e9m\",15151],[\"Campo de Ourique\",21929],[\"Estrela\",18682],[\"Miseric\\u00f3rdia\",13652],[\"Penha de Fran\\u00e7a\",26427],[\"Santa Clara\",18232],[\"Santa Maria Maior\",13266],[\"Santo Ant\\u00f3nio\",12497],[\"S\\u00e3o Vicente\",13598],[\"Loures\",22303],[\"Uni\\u00e3o das freguesias de Sacav\\u00e9m e Prior Velho\",19612],[\"Uni\\u00e3o das freguesias de Camarate, Unhos e Apela\\u00e7\\u00e3o\",27316],[\"Uni\\u00e3o das freguesias de Moscavide e Portela\",23006],[\"Uni\\u00e3o das freguesias de Santa Iria de Azoia, S\\u00e3o Jo\\u00e3o da Talha e Bobadela\",36485],[\"Uni\\u00e3o das freguesias de Santo Ant\\u00e3o e S\\u00e3o Juli\\u00e3o do Tojal\",6442],[\"Uni\\u00e3o das freguesias de Santo Ant\\u00f3nio dos Cavaleiros e Frielas\",23042],[\"Ericeira\",7651],[\"Mafra\",13320],[\"Uni\\u00e3o das freguesias de Malveira e S\\u00e3o Miguel de Alcain\\u00e7a\",6000],[\"Uni\\u00e3o das freguesias de Venda do Pinheiro e Santo Est\\u00eav\\u00e3o das Gal\\u00e9s\",7219],[\"Barcarena\",11146],[\"Porto Salvo\",11812],[\"Uni\\u00e3o das freguesias de Alg\\u00e9s, Linda-a-Velha e Cruz Quebrada-Dafundo\",42196],[\"Uni\\u00e3o das freguesias de Carnaxide e Queijas\",28825],[\"Uni\\u00e3o das freguesias de Oeiras e S\\u00e3o Juli\\u00e3o da Barra, Pa\\u00e7o de Arcos e Caxias\",51167],[\"Uni\\u00e3o das freguesias de Agualva e Mira-Sintra\",34591],[\"Algueir\\u00e3o-Mem Martins\",50544],[\"Casal de Cambra\",9096],[\"Colares\",6377],[\"Uni\\u00e3o das freguesias de Massam\\u00e1 e Monte Abra\\u00e3o\",39522],[\"Uni\\u00e3o das freguesias de Queluz e Belas\",41791],[\"Rio de Mouro\",36125],[\"Uni\\u00e3o das freguesias de Sintra (Santa Maria e S\\u00e3o Miguel, S\\u00e3o Martinho e S\\u00e3o Pedro de Penaferrim)\",23127],[\"Uni\\u00e3o das freguesias de Almargem do Bispo, P\\u00earo Pinheiro e Montelavar\",14139],[\"Uni\\u00e3o das freguesias de S\\u00e3o Jo\\u00e3o das Lampas e Terrugem\",12416],[\"Uni\\u00e3o das freguesias de Alverca do Ribatejo e Sobralinho\",28153],[\"Uni\\u00e3o das freguesias de P\\u00f3voa de Santa Iria e Forte da Casa\",31810],[\"Uni\\u00e3o das freguesias de Alhandra, S\\u00e3o Jo\\u00e3o dos Montes e Calhandriz\",10470],[\"Uni\\u00e3o das freguesias de Castanheira do Ribatejo e Cachoeiras\",6632],[\"Vialonga\",15584],[\"Vila Franca de Xira\",15781],[\"Alfragide\",20154],[\"\\u00c1guas Livres\",30235],[\"Encosta do Sol\",23278],[\"Falagueira-Venda Nova\",19816],[\"Mina de \\u00c1gua\",34366],[\"Venteira\",16892],[\"Odivelas\",49856],[\"Uni\\u00e3o das freguesias de Pontinha e Fam\\u00f5es\",28812],[\"Uni\\u00e3o das freguesias de P\\u00f3voa de Santo Adri\\u00e3o e Olival Basto\",16312],[\"Uni\\u00e3o das freguesias de Ramada e Cane\\u00e7as\",25527],[\"Uni\\u00e3o das freguesias de Alc\\u00e1cer do Sal (Santa Maria do Castelo e Santiago) e Santa Susana\",7912],[\"Alcochete\",9377],[\"Samouco\",2544],[\"S\\u00e3o Francisco\",1490],[\"Uni\\u00e3o das freguesias de Almada, Cova da Piedade, Pragal e Cacilhas\",48704],[\"Uni\\u00e3o das freguesias de Caparica e Trafaria\",21696],[\"Uni\\u00e3o das freguesias de Laranjeiro e Feij\\u00f3\",33809],[\"Costa da Caparica\",11066],[\"Uni\\u00e3o das freguesias de Charneca de Caparica e Sobreda\",33004],[\"Uni\\u00e3o das freguesias de Alto do Seixalinho, Santo Andr\\u00e9 e Verderena\",38215],[\"Uni\\u00e3o das freguesias de Barreiro e Lavradio\",19855],[\"Santo Ant\\u00f3nio da Charneca\",9831],[\"Uni\\u00e3o das freguesias de Palhais e Coina\",3063],[\"Uni\\u00e3o das freguesias de Gr\\u00e2ndola e Santa Margarida da Serra\",9212],[\"Alhos Vedros\",12741],[\"Moita\",15489],[\"Uni\\u00e3o das freguesias de Baixa da Banheira e Vale da Amoreira\",28931],[\"Uni\\u00e3o das freguesias de Atalaia e Alto Estanqueiro-Jardia\",3977],[\"Uni\\u00e3o das freguesias de Montijo e Afonsoeiro\",29072],[\"Palmela\",13909],[\"Pinhal Novo\",20313],[\"Quinta do Anjo\",8833],[\"Uni\\u00e3o das freguesias de Santiago do Cac\\u00e9m, Santa Cruz e S\\u00e3o Bartolomeu da Serra\",6830],[\"Santo Andr\\u00e9\",9099],[\"Amora\",41554],[\"Corroios\",39485],[\"Fern\\u00e3o Ferro\",12551],[\"Uni\\u00e3o das freguesias do Seixal, Arrentela e Aldeia de Paio Pires\",36748],[\"Quinta do Conde\",19393],[\"Sesimbra (Santiago)\",5546],[\"Set\\u00fabal (S\\u00e3o Sebasti\\u00e3o)\",43756],[\"Uni\\u00e3o das freguesias de Set\\u00fabal (S\\u00e3o Juli\\u00e3o, Nossa Senhora da Anunciada e Santa Maria da Gra\\u00e7a)\",35008],[\"Sines\",10798],[\"Nossa Senhora da Expecta\\u00e7\\u00e3o\",3435],[\"S\\u00e3o Jo\\u00e3o Baptista\",3619],[\"S\\u00e3o Br\\u00e1s e S\\u00e3o Louren\\u00e7o\",1501],[\"Assun\\u00e7\\u00e3o, Ajuda, Salvador e Santo Ildefonso\",8121],[\"Caia, S\\u00e3o Pedro e Alc\\u00e1\\u00e7ova\",5642],[\"Uni\\u00e3o das freguesias de Ponte de Sor, Tramaga e Vale de A\\u00e7or\",9736],[\"Uni\\u00e3o das freguesias da S\\u00e9 e S\\u00e3o Louren\\u00e7o\",13763],[\"Borba (S\\u00e3o Bartolomeu)\",760],[\"Uni\\u00e3o das freguesias de Estremoz (Santa Maria e Santo Andr\\u00e9)\",7592],[\"Canaviais\",2618],[\"Uni\\u00e3o das freguesias de Bacelo e Senhora da Sa\\u00fade\",15435],[\"Uni\\u00e3o das freguesias de \\u00c9vora (S\\u00e3o Mamede, S\\u00e9, S\\u00e3o Pedro e Santo Ant\\u00e3o)\",5314],[\"Uni\\u00e3o das freguesias de Malagueira e Horta das Figueiras\",17745],[\"Uni\\u00e3o das freguesias de Nossa Senhora da Vila, Nossa Senhora do Bispo e Silveiras\",9804],[\"Redondo\",4970],[\"Reguengos de Monsaraz\",5906],[\"Vendas Novas\",9718],[\"Nossa Senhora da Concei\\u00e7\\u00e3o e S\\u00e3o Bartolomeu\",4431],[\"Uni\\u00e3o das freguesias de Aljustrel e Rio de Moinhos\",5471],[\"Uni\\u00e3o das freguesias de Beja (Salvador e Santa Maria da Feira)\",8585],[\"Uni\\u00e3o das freguesias de Beja (Santiago Maior e S\\u00e3o Jo\\u00e3o Baptista)\",12010],[\"Uni\\u00e3o das freguesias de Castro Verde e Cas\\u00e9vel\",4552],[\"Uni\\u00e3o das freguesias de Ferreira do Alentejo e Canhestros\",4545],[\"Uni\\u00e3o das freguesias de Moura (Santo Agostinho e S\\u00e3o Jo\\u00e3o Baptista) e Santo Amador\",7852],[\"Uni\\u00e3o das freguesias de Serpa (Salvador e Santa Maria)\",5398],[\"Azambuja\",6297],[\"Almeirim\",10663],[\"Fazendas de Almeirim\",6097],[\"Alpiar\\u00e7a\",6525],[\"Benavente\",7420],[\"Samora Correia\",12900],[\"Uni\\u00e3o das freguesias do Cartaxo e Vale da Pinta\",10595],[\"Uni\\u00e3o das freguesias de Coruche, Fajarda e Erra\",10532],[\"Rio Maior\",10205],[\"Marinhais\",5188],[\"Uni\\u00e3o das freguesias de Salvaterra de Magos e Foros de Salvaterra\",8747],[\"Amiais de Baixo\",1682],[\"Vale de Santar\\u00e9m\",2612],[\"Uni\\u00e3o das freguesias de Santar\\u00e9m (Marvila), Santa Iria da Ribeira de Santar\\u00e9m, Santar\\u00e9m (S\\u00e3o Salvador) e Santar\\u00e9m (S\\u00e3o Nicolau)\",25207],[\"Cabouco\",1493],[\"Lagoa (Nossa Senhora do Ros\\u00e1rio)\",4612],[\"Lagoa (Santa Cruz)\",3021],[\"Arrifes\",6148],[\"Faj\\u00e3 de Baixo\",4443],[\"Ponta Delgada (S\\u00e3o Sebasti\\u00e3o)\",4294],[\"Ponta Delgada (S\\u00e3o Jos\\u00e9)\",5931],[\"Ponta Delgada (S\\u00e3o Pedro)\",7593],[\"Rosto do C\\u00e3o (Livramento)\",3661],[\"Rosto do C\\u00e3o (S\\u00e3o Roque)\",4244],[\"Relva\",2485],[\"Calhetas\",731],[\"Pico da Pedra\",2288],[\"Rabo de Peixe\",6602],[\"Ribeira Grande (Concei\\u00e7\\u00e3o)\",2006],[\"Ribeira Grande (Matriz)\",3501],[\"Vila Franca do Campo (S\\u00e3o Pedro)\",1293],[\"Angra (Nossa Senhora da Concei\\u00e7\\u00e3o)\",3830],[\"Angra (Santa Luzia)\",2421],[\"Angra (S\\u00e3o Pedro)\",3380],[\"Angra (S\\u00e9)\",1273],[\"S\\u00e3o Bento\",1777],[\"Ribeirinha\",2397],[\"S\\u00e3o Mateus da Calheta\",3185],[\"Lajes\",3243],[\"Praia da Vit\\u00f3ria (Santa Cruz)\",6225],[\"Horta (Ang\\u00fastias)\",2360],[\"Horta (Matriz)\",2180],[\"Paul do Mar\",874],[\"C\\u00e2mara de Lobos\",15414],[\"Estreito de C\\u00e2mara de Lobos\",9509],[\"Jardim da Serra\",3229],[\"Imaculado Cora\\u00e7\\u00e3o de Maria\",6362],[\"Monte\",6530],[\"Funchal (Santa Luzia)\",5873],[\"Funchal (Santa Maria Maior)\",13624],[\"Santo Ant\\u00f3nio\",24369],[\"S\\u00e3o Gon\\u00e7alo\",6085],[\"S\\u00e3o Martinho\",24382],[\"Funchal (S\\u00e3o Pedro)\",7600],[\"S\\u00e3o Roque\",8833],[\"Funchal (S\\u00e9)\",2940],[\"\\u00c1gua de Pena\",2176],[\"Cani\\u00e7al\",3537],[\"Machico\",11247],[\"Campan\\u00e1rio\",4548],[\"Ribeira Brava\",7088],[\"Camacha\",6691],[\"Cani\\u00e7o\",18225],[\"Gaula\",3664],[\"Santa Cruz\",6986],[\"Porto Santo\",5594]],\"hovertemplate\":\"PT_INE_11=%{x}<br>diff_rel_11=%{y}<br>FF_DSG=%{customdata[0]}<br>PT_MAI_11=%{customdata[1]}<extra></extra>\",\"legendgroup\":\"\",\"marker\":{\"color\":\"#636efa\",\"symbol\":\"circle\"},\"mode\":\"markers\",\"name\":\"\",\"orientation\":\"v\",\"showlegend\":false,\"x\":[587,754,1300,2018,1030,957,2087,783,3910,1010,487,582,2618,2877,313,3504,2982,331,2337,1029,887,519,2947,1078,4072,2131,4104,2383,2222,3972,6155,3104,20571,1875,832,726,1330,858,1546,2049,3499,1476,665,1726,9866,1482,1745,1157,1795,1342,1166,2304,1535,2439,1489,9011,1769,1377,948,4160,635,1935,1200,4408,892,10113,22453,897,11291,11473,1748,5283,3024,7062,5225,4187,2920,1149,10094,4028,9009,1293,1814,2195,845,1127,5777,2488,8711,1569,2465,2172,890,3524,1314,5432,12612,1116,1720,1256,1176,2580,2007,3018,987,6933,3772,3957,7844,4354,2306,3528,3310,4039,2093,1017,967,2842,5103,3559,1906,4623,1144,1818,4338,2051,2917,2951,2017,6880,2777,1863,1767,2009,1156,4425,933,2000,3870,6307,1521,1713,3219,6833,2969,1573,3153,2348,1728,2811,2776,2266,2092,2093,2440,1233,1837,3073,2357,2660,1674,2325,5690,2836,2872,4285,15809,4318,1473,1775,8574,2532,1317,5709,17801,7019,2857,3014,3322,2995,5537,17095,7166,8257,2897,5532,9681,39329,40858,11291,31504,21432,3821,10105,1439,4698,9858,14485,31666,6110,37176,39586,23948,41631,20377,27063,37298,30736,23377,33846,23676,10806,4534,27085,11990,31357,18450,12596,3940,1926,2299,1760,2797,1491,2460,2071,1821,1844,22427,11407,9296,10494,22011,8165,18102,10145,14052,9444,17419,42508,16406,13828,27189,11368,1154,1491,3836,1625,5222,9335,3039,2899,4006,1377,1761,1597,638,14037,2728,2690,1956,3053,4872,1241,930,1536,1994,1520,1040,3213,1987,1945,1065,1681,5658,1579,2721,4676,4349,6409,1730,8453,6071,3501,1715,3275,1898,2855,2924,2008,3019,4902,6866,4328,3799,2427,1768,1441,823,5327,7838,3814,1604,1399,2806,1159,2012,15314,7052,1127,2063,1730,1501,1435,12379,3162,2223,3820,2494,4132,6515,7025,6777,5348,2726,2664,3017,5630,4503,3357,3970,3993,2766,4110,8285,3173,7389,7689,14228,2522,2458,2880,1594,4329,8796,4388,16869,17471,4368,8133,975,886,1841,2511,2638,1540,2260,1497,14039,1149,9867,3293,397,995,17746,367,172,315,4973,235,163,249,369,450,9340,783,1735,9708,2253,2790,16877,4551,34166,6036,6713,15116,6603,12813,14480,11377,12609,4576,32337,7846,3183,8246,11141,2612,9046,10830,4924,2578,2674,3700,8166,4502,4990,7323,10294,3924,6479,15045,3181,7962,4166,13262,11910,5146,3357,1149,2141,4877,3123,9046,23874,2216,2227,5049,6939,3223,32382,4287,11696,14377,9588,13340,3587,3193,1724,2531,6676,2187,7404,2322,15063,6215,1517,6600,6498,2163,24779,18352,5530,8135,3261,24894,1329,13323,4711,10222,6099,4456,2775,3360,8278,3687,2939,1679,905,3703,4606,3080,1202,1316,638,1543,2005,4174,2061,6656,3924,1775,2817,3870,7308,3662,4912,18508,4960,7755,1414,1862,21125,28354,4601,15913,10768,5522,6747,2308,5466,14568,9015,1047,8283,7056,11902,1116,8135,8872,6326,1649,9095,2639,1890,6413,20036,2626,8039,1974,13731,4185,4008,789,6207,14755,4313,6620,7015,3001,1732,8661,5496,30413,42538,34166,44917,12859,11186,10067,30625,11942,15139,35558,30289,28081,26921,26212,16249,23647,17387,13056,17761,15635,10090,22162,16049,9367,9134,12098,20763,17312,23725,17462,34623,6132,19817,7352,13177,6021,7242,10633,11128,37819,27272,45326,29475,46502,8553,5783,34897,37560,32813,22382,13107,12588,27429,30071,10062,6202,15033,14046,12662,27129,20051,17323,31443,19524,44421,25190,13832,24700,7427,9086,2383,1597,40832,19162,29944,9839,34189,33538,17391,8808,2848,8771,11668,14016,23034,3846,27747,13839,18938,9065,6864,8518,35725,36479,13228,33552,18558,4202,38982,30142,10184,3077,3119,1346,7480,4749,9058,12738,657,7094,2690,14898,4012,17499,9448,4700,5709,9026,4165,4908,8608,11199,4312,4179,6902,5069,5955,9963,5660,6186,6986,12245,9858,9771,9272,5028,8254,1510,2375,23292,1373,4024,2652,5322,3890,3230,4761,6125,3020,3679,2243,690,2146,5796,1856,2922,1065,3038,2299,2804,821,1609,2105,2772,2952,5232,1947,2031,702,13011,7537,2534,5177,5581,4758,10929,21390,5354,20564,5941,7559,2029,1851,2961,9037,3528,5034,5886,17156,3078,5688,4263],\"xaxis\":\"x\",\"y\":[48.4,38.5,40.5,21.9,13.9,14.0,20.7,25.0,26.6,49.6,35.7,28.5,8.6,25.5,44.4,25.1,14.8,23.9,13.7,-9.1,19.3,3.1,17.3,11.4,17.6,37.9,24.4,45.6,35.8,10.9,18.7,17.4,13.6,30.5,17.5,25.5,7.2,10.7,21.7,34.4,25.1,21.7,16.8,10.6,6.9,11.5,10.7,11.9,13.2,23.5,18.2,10.8,16.2,11.7,3.2,8.9,16.6,13.8,13.2,2.0,1.9,14.4,26.5,13.0,22.3,3.6,3.6,5.7,19.4,14.7,25.0,12.7,14.9,8.7,5.1,2.2,19.0,20.5,12.2,-7.8,5.8,16.4,17.0,16.9,33.0,38.5,23.0,-10.9,34.9,14.6,22.9,14.3,20.4,17.3,17.0,12.1,16.6,24.7,25.0,2.3,8.0,20.7,6.3,15.7,17.6,9.6,11.3,-11.8,4.2,7.0,10.8,9.7,14.4,14.7,11.4,11.1,9.3,19.2,9.9,15.5,14.7,11.4,10.8,10.9,10.2,12.3,18.0,-2.1,8.7,19.3,17.2,12.8,17.1,14.8,14.2,26.8,20.7,32.0,31.0,8.0,15.2,16.0,6.2,8.1,11.8,8.9,16.5,17.5,22.7,15.2,17.8,8.3,7.9,20.7,18.9,18.6,11.3,12.2,7.6,6.4,7.5,15.8,-3.7,11.6,5.7,11.9,8.2,7.2,6.5,13.9,10.3,9.4,4.4,10.2,7.7,11.1,11.9,14.2,7.1,11.7,10.4,8.5,6.3,28.1,14.1,12.3,13.3,5.6,5.1,6.0,4.8,1.2,3.5,0.6,15.2,4.7,-0.1,75.6,-28.3,7.8,-2.3,9.4,6.9,3.8,17.1,16.8,11.5,6.1,12.5,24.5,7.3,11.3,26.7,19.5,4.8,9.5,1.7,9.5,10.5,6.9,3.0,7.7,10.3,7.6,12.0,4.9,7.3,-4.3,9.1,7.1,8.7,3.6,3.0,5.0,10.7,3.3,1.7,7.1,4.9,6.0,6.9,14.0,7.5,3.8,14.2,12.9,6.2,28.4,14.9,15.2,30.8,17.5,16.2,0.0,13.7,12.7,-8.0,10.6,9.8,15.1,22.5,15.3,11.4,20.6,17.4,0.3,18.0,6.3,24.3,8.2,6.0,18.1,12.9,12.0,2.4,7.1,8.4,4.6,7.5,40.7,10.8,9.1,5.7,5.0,5.2,6.9,4.8,3.9,6.7,6.9,-2.3,8.9,10.0,9.5,6.9,2.4,10.5,5.3,-1.7,3.8,10.5,10.2,10.7,7.5,7.6,1.7,14.8,6.5,7.7,14.0,8.9,5.4,10.1,3.3,6.1,8.9,17.3,13.0,10.7,12.2,12.3,16.2,9.3,7.3,7.5,7.1,9.0,9.0,6.4,7.0,10.3,10.3,10.7,14.5,3.3,15.4,21.2,25.2,9.6,10.2,15.1,7.1,9.8,6.9,13.5,8.6,5.7,15.8,13.3,11.1,12.0,7.8,9.9,2.7,-6.2,11.4,23.6,35.1,8.2,14.5,12.7,22.2,-17.4,-2.8,11.2,25.6,44.8,64.4,18.1,52.3,62.0,49.8,25.2,22.2,8.6,13.7,6.3,21.5,65.5,20.5,20.6,1.5,15.8,1.7,14.2,11.4,7.9,8.8,17.4,15.3,4.2,-2.3,15.1,12.4,29.5,11.1,11.4,22.2,13.3,14.3,9.2,10.6,21.7,11.8,13.4,11.0,15.3,5.1,8.7,8.4,14.0,14.9,11.0,16.5,22.0,13.9,12.7,12.6,7.6,34.5,22.9,13.0,8.8,13.2,10.1,7.2,30.2,12.3,14.4,11.5,6.6,3.7,20.3,6.2,11.0,5.4,5.5,12.0,9.6,5.9,-7.9,8.8,8.0,15.3,19.4,20.4,6.7,16.5,8.6,17.1,8.6,6.2,5.5,9.1,22.6,6.2,20.2,18.7,10.5,8.1,2.3,10.1,-3.2,2.0,19.7,14.7,9.2,20.4,27.1,16.8,13.3,29.1,16.0,28.3,54.7,14.8,31.5,8.2,26.1,18.4,27.1,15.4,14.9,-2.4,6.1,16.2,0.8,16.3,6.7,16.1,25.0,16.4,5.4,4.2,10.0,11.4,8.4,11.7,6.4,8.3,17.2,5.5,12.2,17.8,21.6,11.4,15.3,15.4,1.8,7.1,1.0,11.3,14.9,3.2,2.8,8.9,7.7,-0.8,5.1,7.1,6.1,11.3,13.9,5.7,15.0,13.6,6.9,3.2,10.4,4.8,25.9,7.5,11.8,2.8,2.0,9.6,23.6,16.6,18.6,16.7,16.4,16.5,8.1,2.0,19.9,58.7,12.8,15.7,26.3,30.3,26.8,16.0,23.5,19.5,35.3,19.2,13.6,41.6,36.8,12.4,7.4,13.3,15.1,31.7,5.4,5.1,16.3,4.1,1.1,-0.3,-0.3,4.8,6.1,11.6,5.7,12.9,17.4,8.7,6.3,10.3,13.3,11.3,10.1,3.3,7.9,-1.4,2.6,5.8,4.1,6.9,3.7,12.4,59.2,11.4,16.1,14.4,9.3,-13.5,12.2,14.4,17.9,3.3,6.5,3.2,6.8,-6.7,19.3,13.2,12.9,12.5,-3.5,13.9,14.2,11.6,7.5,5.0,9.2,10.5,25.6,3.4,4.8,0.5,7.3,-2.6,-0.5,6.8,16.3,8.2,-5.1,9.5,4.5,32.0,12.2,16.1,6.0,11.6,16.0,11.5,8.6,18.8,7.5,8.0,15.7,7.0,-2.7,3.6,32.5,1.4,3.8,5.7,3.5,7.7,6.4,11.5,-0.3,7.2,5.6,8.8,13.8,6.5,5.7,7.0,7.7,5.5,6.2,5.3,7.5,7.8,10.1,3.2,6.0,11.4,10.0,8.2,8.7,14.6,13.9,15.5,14.2,32.9,24.6,24.0,21.2,15.4,10.8,5.9,6.6,13.9,8.1,19.8,21.4,26.1,5.3,20.5,55.1,10.4,13.9,14.9,9.9,19.0,21.2,7.3,24.5,18.5,26.2,27.4,22.9,17.0,23.4,24.7,13.9,13.7,18.6,27.9,16.9,44.9,17.6,19.5,24.5,28.9,40.8,13.7,6.2,19.0,22.8,31.2],\"yaxis\":\"y\",\"type\":\"scatter\"}],                        {\"template\":{\"data\":{\"histogram2dcontour\":[{\"type\":\"histogram2dcontour\",\"colorbar\":{\"outlinewidth\":0,\"ticks\":\"\"},\"colorscale\":[[0.0,\"#0d0887\"],[0.1111111111111111,\"#46039f\"],[0.2222222222222222,\"#7201a8\"],[0.3333333333333333,\"#9c179e\"],[0.4444444444444444,\"#bd3786\"],[0.5555555555555556,\"#d8576b\"],[0.6666666666666666,\"#ed7953\"],[0.7777777777777778,\"#fb9f3a\"],[0.8888888888888888,\"#fdca26\"],[1.0,\"#f0f921\"]]}],\"choropleth\":[{\"type\":\"choropleth\",\"colorbar\":{\"outlinewidth\":0,\"ticks\":\"\"}}],\"histogram2d\":[{\"type\":\"histogram2d\",\"colorbar\":{\"outlinewidth\":0,\"ticks\":\"\"},\"colorscale\":[[0.0,\"#0d0887\"],[0.1111111111111111,\"#46039f\"],[0.2222222222222222,\"#7201a8\"],[0.3333333333333333,\"#9c179e\"],[0.4444444444444444,\"#bd3786\"],[0.5555555555555556,\"#d8576b\"],[0.6666666666666666,\"#ed7953\"],[0.7777777777777778,\"#fb9f3a\"],[0.8888888888888888,\"#fdca26\"],[1.0,\"#f0f921\"]]}],\"heatmap\":[{\"type\":\"heatmap\",\"colorbar\":{\"outlinewidth\":0,\"ticks\":\"\"},\"colorscale\":[[0.0,\"#0d0887\"],[0.1111111111111111,\"#46039f\"],[0.2222222222222222,\"#7201a8\"],[0.3333333333333333,\"#9c179e\"],[0.4444444444444444,\"#bd3786\"],[0.5555555555555556,\"#d8576b\"],[0.6666666666666666,\"#ed7953\"],[0.7777777777777778,\"#fb9f3a\"],[0.8888888888888888,\"#fdca26\"],[1.0,\"#f0f921\"]]}],\"heatmapgl\":[{\"type\":\"heatmapgl\",\"colorbar\":{\"outlinewidth\":0,\"ticks\":\"\"},\"colorscale\":[[0.0,\"#0d0887\"],[0.1111111111111111,\"#46039f\"],[0.2222222222222222,\"#7201a8\"],[0.3333333333333333,\"#9c179e\"],[0.4444444444444444,\"#bd3786\"],[0.5555555555555556,\"#d8576b\"],[0.6666666666666666,\"#ed7953\"],[0.7777777777777778,\"#fb9f3a\"],[0.8888888888888888,\"#fdca26\"],[1.0,\"#f0f921\"]]}],\"contourcarpet\":[{\"type\":\"contourcarpet\",\"colorbar\":{\"outlinewidth\":0,\"ticks\":\"\"}}],\"contour\":[{\"type\":\"contour\",\"colorbar\":{\"outlinewidth\":0,\"ticks\":\"\"},\"colorscale\":[[0.0,\"#0d0887\"],[0.1111111111111111,\"#46039f\"],[0.2222222222222222,\"#7201a8\"],[0.3333333333333333,\"#9c179e\"],[0.4444444444444444,\"#bd3786\"],[0.5555555555555556,\"#d8576b\"],[0.6666666666666666,\"#ed7953\"],[0.7777777777777778,\"#fb9f3a\"],[0.8888888888888888,\"#fdca26\"],[1.0,\"#f0f921\"]]}],\"surface\":[{\"type\":\"surface\",\"colorbar\":{\"outlinewidth\":0,\"ticks\":\"\"},\"colorscale\":[[0.0,\"#0d0887\"],[0.1111111111111111,\"#46039f\"],[0.2222222222222222,\"#7201a8\"],[0.3333333333333333,\"#9c179e\"],[0.4444444444444444,\"#bd3786\"],[0.5555555555555556,\"#d8576b\"],[0.6666666666666666,\"#ed7953\"],[0.7777777777777778,\"#fb9f3a\"],[0.8888888888888888,\"#fdca26\"],[1.0,\"#f0f921\"]]}],\"mesh3d\":[{\"type\":\"mesh3d\",\"colorbar\":{\"outlinewidth\":0,\"ticks\":\"\"}}],\"scatter\":[{\"fillpattern\":{\"fillmode\":\"overlay\",\"size\":10,\"solidity\":0.2},\"type\":\"scatter\"}],\"parcoords\":[{\"type\":\"parcoords\",\"line\":{\"colorbar\":{\"outlinewidth\":0,\"ticks\":\"\"}}}],\"scatterpolargl\":[{\"type\":\"scatterpolargl\",\"marker\":{\"colorbar\":{\"outlinewidth\":0,\"ticks\":\"\"}}}],\"bar\":[{\"error_x\":{\"color\":\"#2a3f5f\"},\"error_y\":{\"color\":\"#2a3f5f\"},\"marker\":{\"line\":{\"color\":\"#E5ECF6\",\"width\":0.5},\"pattern\":{\"fillmode\":\"overlay\",\"size\":10,\"solidity\":0.2}},\"type\":\"bar\"}],\"scattergeo\":[{\"type\":\"scattergeo\",\"marker\":{\"colorbar\":{\"outlinewidth\":0,\"ticks\":\"\"}}}],\"scatterpolar\":[{\"type\":\"scatterpolar\",\"marker\":{\"colorbar\":{\"outlinewidth\":0,\"ticks\":\"\"}}}],\"histogram\":[{\"marker\":{\"pattern\":{\"fillmode\":\"overlay\",\"size\":10,\"solidity\":0.2}},\"type\":\"histogram\"}],\"scattergl\":[{\"type\":\"scattergl\",\"marker\":{\"colorbar\":{\"outlinewidth\":0,\"ticks\":\"\"}}}],\"scatter3d\":[{\"type\":\"scatter3d\",\"line\":{\"colorbar\":{\"outlinewidth\":0,\"ticks\":\"\"}},\"marker\":{\"colorbar\":{\"outlinewidth\":0,\"ticks\":\"\"}}}],\"scattermapbox\":[{\"type\":\"scattermapbox\",\"marker\":{\"colorbar\":{\"outlinewidth\":0,\"ticks\":\"\"}}}],\"scatterternary\":[{\"type\":\"scatterternary\",\"marker\":{\"colorbar\":{\"outlinewidth\":0,\"ticks\":\"\"}}}],\"scattercarpet\":[{\"type\":\"scattercarpet\",\"marker\":{\"colorbar\":{\"outlinewidth\":0,\"ticks\":\"\"}}}],\"carpet\":[{\"aaxis\":{\"endlinecolor\":\"#2a3f5f\",\"gridcolor\":\"white\",\"linecolor\":\"white\",\"minorgridcolor\":\"white\",\"startlinecolor\":\"#2a3f5f\"},\"baxis\":{\"endlinecolor\":\"#2a3f5f\",\"gridcolor\":\"white\",\"linecolor\":\"white\",\"minorgridcolor\":\"white\",\"startlinecolor\":\"#2a3f5f\"},\"type\":\"carpet\"}],\"table\":[{\"cells\":{\"fill\":{\"color\":\"#EBF0F8\"},\"line\":{\"color\":\"white\"}},\"header\":{\"fill\":{\"color\":\"#C8D4E3\"},\"line\":{\"color\":\"white\"}},\"type\":\"table\"}],\"barpolar\":[{\"marker\":{\"line\":{\"color\":\"#E5ECF6\",\"width\":0.5},\"pattern\":{\"fillmode\":\"overlay\",\"size\":10,\"solidity\":0.2}},\"type\":\"barpolar\"}],\"pie\":[{\"automargin\":true,\"type\":\"pie\"}]},\"layout\":{\"autotypenumbers\":\"strict\",\"colorway\":[\"#636efa\",\"#EF553B\",\"#00cc96\",\"#ab63fa\",\"#FFA15A\",\"#19d3f3\",\"#FF6692\",\"#B6E880\",\"#FF97FF\",\"#FECB52\"],\"font\":{\"color\":\"#2a3f5f\"},\"hovermode\":\"closest\",\"hoverlabel\":{\"align\":\"left\"},\"paper_bgcolor\":\"white\",\"plot_bgcolor\":\"#E5ECF6\",\"polar\":{\"bgcolor\":\"#E5ECF6\",\"angularaxis\":{\"gridcolor\":\"white\",\"linecolor\":\"white\",\"ticks\":\"\"},\"radialaxis\":{\"gridcolor\":\"white\",\"linecolor\":\"white\",\"ticks\":\"\"}},\"ternary\":{\"bgcolor\":\"#E5ECF6\",\"aaxis\":{\"gridcolor\":\"white\",\"linecolor\":\"white\",\"ticks\":\"\"},\"baxis\":{\"gridcolor\":\"white\",\"linecolor\":\"white\",\"ticks\":\"\"},\"caxis\":{\"gridcolor\":\"white\",\"linecolor\":\"white\",\"ticks\":\"\"}},\"coloraxis\":{\"colorbar\":{\"outlinewidth\":0,\"ticks\":\"\"}},\"colorscale\":{\"sequential\":[[0.0,\"#0d0887\"],[0.1111111111111111,\"#46039f\"],[0.2222222222222222,\"#7201a8\"],[0.3333333333333333,\"#9c179e\"],[0.4444444444444444,\"#bd3786\"],[0.5555555555555556,\"#d8576b\"],[0.6666666666666666,\"#ed7953\"],[0.7777777777777778,\"#fb9f3a\"],[0.8888888888888888,\"#fdca26\"],[1.0,\"#f0f921\"]],\"sequentialminus\":[[0.0,\"#0d0887\"],[0.1111111111111111,\"#46039f\"],[0.2222222222222222,\"#7201a8\"],[0.3333333333333333,\"#9c179e\"],[0.4444444444444444,\"#bd3786\"],[0.5555555555555556,\"#d8576b\"],[0.6666666666666666,\"#ed7953\"],[0.7777777777777778,\"#fb9f3a\"],[0.8888888888888888,\"#fdca26\"],[1.0,\"#f0f921\"]],\"diverging\":[[0,\"#8e0152\"],[0.1,\"#c51b7d\"],[0.2,\"#de77ae\"],[0.3,\"#f1b6da\"],[0.4,\"#fde0ef\"],[0.5,\"#f7f7f7\"],[0.6,\"#e6f5d0\"],[0.7,\"#b8e186\"],[0.8,\"#7fbc41\"],[0.9,\"#4d9221\"],[1,\"#276419\"]]},\"xaxis\":{\"gridcolor\":\"white\",\"linecolor\":\"white\",\"ticks\":\"\",\"title\":{\"standoff\":15},\"zerolinecolor\":\"white\",\"automargin\":true,\"zerolinewidth\":2},\"yaxis\":{\"gridcolor\":\"white\",\"linecolor\":\"white\",\"ticks\":\"\",\"title\":{\"standoff\":15},\"zerolinecolor\":\"white\",\"automargin\":true,\"zerolinewidth\":2},\"scene\":{\"xaxis\":{\"backgroundcolor\":\"#E5ECF6\",\"gridcolor\":\"white\",\"linecolor\":\"white\",\"showbackground\":true,\"ticks\":\"\",\"zerolinecolor\":\"white\",\"gridwidth\":2},\"yaxis\":{\"backgroundcolor\":\"#E5ECF6\",\"gridcolor\":\"white\",\"linecolor\":\"white\",\"showbackground\":true,\"ticks\":\"\",\"zerolinecolor\":\"white\",\"gridwidth\":2},\"zaxis\":{\"backgroundcolor\":\"#E5ECF6\",\"gridcolor\":\"white\",\"linecolor\":\"white\",\"showbackground\":true,\"ticks\":\"\",\"zerolinecolor\":\"white\",\"gridwidth\":2}},\"shapedefaults\":{\"line\":{\"color\":\"#2a3f5f\"}},\"annotationdefaults\":{\"arrowcolor\":\"#2a3f5f\",\"arrowhead\":0,\"arrowwidth\":1},\"geo\":{\"bgcolor\":\"white\",\"landcolor\":\"#E5ECF6\",\"subunitcolor\":\"white\",\"showland\":true,\"showlakes\":true,\"lakecolor\":\"white\"},\"title\":{\"x\":0.05},\"mapbox\":{\"style\":\"light\"}}},\"xaxis\":{\"anchor\":\"y\",\"domain\":[0.0,1.0],\"title\":{\"text\":\"PT_INE_11\"}},\"yaxis\":{\"anchor\":\"x\",\"domain\":[0.0,1.0],\"title\":{\"text\":\"diff_rel_11\"}},\"legend\":{\"tracegroupgap\":0},\"margin\":{\"t\":60}},                        {\"responsive\": true}                    ).then(function(){\n",
       "                            \n",
       "var gd = document.getElementById('90b4881a-f0dd-4f69-a242-fe4c28baa6d1');\n",
       "var x = new MutationObserver(function (mutations, observer) {{\n",
       "        var display = window.getComputedStyle(gd).display;\n",
       "        if (!display || display === 'none') {{\n",
       "            console.log([gd, 'removed!']);\n",
       "            Plotly.purge(gd);\n",
       "            observer.disconnect();\n",
       "        }}\n",
       "}});\n",
       "\n",
       "// Listen for the removal of the full notebook cells\n",
       "var notebookContainer = gd.closest('#notebook-container');\n",
       "if (notebookContainer) {{\n",
       "    x.observe(notebookContainer, {childList: true});\n",
       "}}\n",
       "\n",
       "// Listen for the clearing of the current output cell\n",
       "var outputEl = gd.closest('.output');\n",
       "if (outputEl) {{\n",
       "    x.observe(outputEl, {childList: true});\n",
       "}}\n",
       "\n",
       "                        })                };                });            </script>        </div>"
      ]
     },
     "metadata": {},
     "output_type": "display_data"
    }
   ],
   "source": [
    "cmap = {'APR': 'green', 'APU': 'red', 'AMU': 'blue'}\n",
    "\n",
    "\n",
    "fig = px.scatter(comp_APU, x='PT_INE_11', y='diff_rel_11', hover_data=['FF_DSG', \"PT_MAI_11\"])\n",
    "\n",
    "# Show the plot\n",
    "fig.show()"
   ]
  },
  {
   "cell_type": "code",
   "execution_count": 26,
   "id": "9ff5b193",
   "metadata": {},
   "outputs": [
    {
     "data": {
      "text/html": [
       "<div>\n",
       "<style scoped>\n",
       "    .dataframe tbody tr th:only-of-type {\n",
       "        vertical-align: middle;\n",
       "    }\n",
       "\n",
       "    .dataframe tbody tr th {\n",
       "        vertical-align: top;\n",
       "    }\n",
       "\n",
       "    .dataframe thead th {\n",
       "        text-align: right;\n",
       "    }\n",
       "</style>\n",
       "<table border=\"1\" class=\"dataframe\">\n",
       "  <thead>\n",
       "    <tr style=\"text-align: right;\">\n",
       "      <th></th>\n",
       "      <th>TIPAU</th>\n",
       "      <th>Distrito</th>\n",
       "      <th>CC_DSG</th>\n",
       "      <th>FF_DSG</th>\n",
       "      <th>PT_INE_21</th>\n",
       "      <th>PT_INE_11</th>\n",
       "      <th>PT_INE_01</th>\n",
       "      <th>PT_MAI_21</th>\n",
       "      <th>PT_MAI_11</th>\n",
       "      <th>diff_abs_21</th>\n",
       "      <th>diff_abs_11</th>\n",
       "      <th>diff_rel_21</th>\n",
       "      <th>diff_rel_11</th>\n",
       "    </tr>\n",
       "    <tr>\n",
       "      <th>FREGUESIA</th>\n",
       "      <th></th>\n",
       "      <th></th>\n",
       "      <th></th>\n",
       "      <th></th>\n",
       "      <th></th>\n",
       "      <th></th>\n",
       "      <th></th>\n",
       "      <th></th>\n",
       "      <th></th>\n",
       "      <th></th>\n",
       "      <th></th>\n",
       "      <th></th>\n",
       "      <th></th>\n",
       "    </tr>\n",
       "  </thead>\n",
       "  <tbody>\n",
       "    <tr>\n",
       "      <th>160102</th>\n",
       "      <td>APU</td>\n",
       "      <td>Viana do Castelo</td>\n",
       "      <td>Arcos de Valdevez</td>\n",
       "      <td>Aguiã</td>\n",
       "      <td>615</td>\n",
       "      <td>587</td>\n",
       "      <td>571</td>\n",
       "      <td>801</td>\n",
       "      <td>871</td>\n",
       "      <td>186.0</td>\n",
       "      <td>284</td>\n",
       "      <td>30.2</td>\n",
       "      <td>48.4</td>\n",
       "    </tr>\n",
       "    <tr>\n",
       "      <th>160124</th>\n",
       "      <td>APU</td>\n",
       "      <td>Viana do Castelo</td>\n",
       "      <td>Arcos de Valdevez</td>\n",
       "      <td>Paçô</td>\n",
       "      <td>814</td>\n",
       "      <td>754</td>\n",
       "      <td>654</td>\n",
       "      <td>1031</td>\n",
       "      <td>1044</td>\n",
       "      <td>217.0</td>\n",
       "      <td>290</td>\n",
       "      <td>26.7</td>\n",
       "      <td>38.5</td>\n",
       "    </tr>\n",
       "    <tr>\n",
       "      <th>160153</th>\n",
       "      <td>APU</td>\n",
       "      <td>Viana do Castelo</td>\n",
       "      <td>Arcos de Valdevez</td>\n",
       "      <td>União das freguesias de Arcos de Valdevez (São...</td>\n",
       "      <td>1362</td>\n",
       "      <td>1300</td>\n",
       "      <td>1313</td>\n",
       "      <td>1711</td>\n",
       "      <td>1826</td>\n",
       "      <td>349.0</td>\n",
       "      <td>526</td>\n",
       "      <td>25.6</td>\n",
       "      <td>40.5</td>\n",
       "    </tr>\n",
       "    <tr>\n",
       "      <th>160154</th>\n",
       "      <td>APU</td>\n",
       "      <td>Viana do Castelo</td>\n",
       "      <td>Arcos de Valdevez</td>\n",
       "      <td>União das freguesias de Arcos de Valdevez (Sal...</td>\n",
       "      <td>2215</td>\n",
       "      <td>2018</td>\n",
       "      <td>1699</td>\n",
       "      <td>2704</td>\n",
       "      <td>2459</td>\n",
       "      <td>489.0</td>\n",
       "      <td>441</td>\n",
       "      <td>22.1</td>\n",
       "      <td>21.9</td>\n",
       "    </tr>\n",
       "    <tr>\n",
       "      <th>160157</th>\n",
       "      <td>APU</td>\n",
       "      <td>Viana do Castelo</td>\n",
       "      <td>Arcos de Valdevez</td>\n",
       "      <td>União das freguesias de Guilhadeses e Santar</td>\n",
       "      <td>972</td>\n",
       "      <td>1030</td>\n",
       "      <td>893</td>\n",
       "      <td>1190</td>\n",
       "      <td>1173</td>\n",
       "      <td>218.0</td>\n",
       "      <td>143</td>\n",
       "      <td>22.4</td>\n",
       "      <td>13.9</td>\n",
       "    </tr>\n",
       "  </tbody>\n",
       "</table>\n",
       "</div>"
      ],
      "text/plain": [
       "          TIPAU          Distrito             CC_DSG   \n",
       "FREGUESIA                                              \n",
       "160102      APU  Viana do Castelo  Arcos de Valdevez  \\\n",
       "160124      APU  Viana do Castelo  Arcos de Valdevez   \n",
       "160153      APU  Viana do Castelo  Arcos de Valdevez   \n",
       "160154      APU  Viana do Castelo  Arcos de Valdevez   \n",
       "160157      APU  Viana do Castelo  Arcos de Valdevez   \n",
       "\n",
       "                                                      FF_DSG  PT_INE_21   \n",
       "FREGUESIA                                                                 \n",
       "160102                                                 Aguiã        615  \\\n",
       "160124                                                  Paçô        814   \n",
       "160153     União das freguesias de Arcos de Valdevez (São...       1362   \n",
       "160154     União das freguesias de Arcos de Valdevez (Sal...       2215   \n",
       "160157          União das freguesias de Guilhadeses e Santar        972   \n",
       "\n",
       "           PT_INE_11  PT_INE_01 PT_MAI_21  PT_MAI_11  diff_abs_21   \n",
       "FREGUESIA                                                           \n",
       "160102           587        571       801        871        186.0  \\\n",
       "160124           754        654      1031       1044        217.0   \n",
       "160153          1300       1313      1711       1826        349.0   \n",
       "160154          2018       1699      2704       2459        489.0   \n",
       "160157          1030        893      1190       1173        218.0   \n",
       "\n",
       "           diff_abs_11  diff_rel_21  diff_rel_11  \n",
       "FREGUESIA                                         \n",
       "160102             284         30.2         48.4  \n",
       "160124             290         26.7         38.5  \n",
       "160153             526         25.6         40.5  \n",
       "160154             441         22.1         21.9  \n",
       "160157             143         22.4         13.9  "
      ]
     },
     "execution_count": 26,
     "metadata": {},
     "output_type": "execute_result"
    }
   ],
   "source": [
    "comp_APU.head()"
   ]
  },
  {
   "cell_type": "code",
   "execution_count": 107,
   "id": "57320e7f",
   "metadata": {},
   "outputs": [],
   "source": [
    "corr_xlsx = pd.read_excel('dados/corr/correspondencias.xlsx', converters={'cod_old':str,'cod_new':str})\n",
    "nac21 = pd.read_excel('dados/dados_INE.xlsx', sheet_name=\"Nacionalidade2021\", converters={'MUNICIPIO':str,'FREGUESIA':str}, skiprows=[0])\n",
    "nac11 = pd.read_excel('dados/dados_INE.xlsx', sheet_name=\"Nacionalidade2011\", converters={'MUNICIPIO_CAOP2013':str,'FREGUESIA_CAOP2013':str}, skiprows=[0])\n",
    "nac01 = pd.read_excel('dados/dados_INE.xlsx', sheet_name=\"Nacionalidade2001\", converters={'CONCELHO_EU02':str,'FREGUESIA_EU02':str}, skiprows=[0])\n",
    "tipologias2014 = pd.read_excel('dados/tipologias2014.xlsx').rename(columns={\"Código\": \"FREGUESIA\"}).set_index(\"FREGUESIA\")\n",
    "corr_xlsx = pd.read_excel('dados/corr/correspondencias.xlsx', converters={'cod_old':str,'cod_new':str})\n",
    "corr = dict(zip(corr_xlsx.cod_old,corr_xlsx.cod_new))\n",
    "\n",
    "nac21 = nac21[(nac21[\"FREGUESIA\"] != '000000') & (nac21[\"GRUPO ETÁRIO\"] == \"2 18 ou mais anos\")]\n",
    "nac21 = nac21.rename(columns={\"Designação CAOP2013\": \"FF_DSG\", \"Portuguesa\":\"PT\", \"Estrangeira\":\"EST\", \"Apátrida\":\"APA\", \"Total\":\"TOTAL\"})\n",
    "nac21 = nac21[[\"CC_DSG\", \"FREGUESIA\", \"FF_DSG\", \"TOTAL\", \"PT\"]]\n",
    "nac21[\"FREGUESIA\"] = nac21[\"FREGUESIA\"].map(corr)\n",
    "\n",
    "nac11 = nac11[(nac11[\"FREGUESIA_CAOP2013\"] != '000000') & (nac11[\"GRUPO ETÁRIO\"] == \"2 18 ou mais anos\")]\n",
    "nac11 = nac11.rename(columns={\"Designação CAOP2013\": \"FF_DSG\", \"FREGUESIA_CAOP2013\": \"FREGUESIA\", \"Portuguesa\":\"PT\", \"Estrangeira\":\"EST\", \"Apátrida\":\"APA\", \"Total\":\"TOTAL\"})\n",
    "nac11 = nac11[[\"CC_DSG\", \"FREGUESIA\", \"FF_DSG\", \"TOTAL\", \"PT\"]]\n",
    "nac11[\"FREGUESIA\"] = nac11[\"FREGUESIA\"].map(corr)\n",
    "\n",
    "nac01 = nac01[(nac01[\"FREGUESIA_EU02\"] != '000000') & (nac01[\"GRUPO ETÁRIO\"] == \"2 18 ou mais anos\")]\n",
    "nac01 = nac01.rename(columns={\"FREGUESIA_EU02\": \"FREGUESIA\", \"Portuguesa\":\"PT\", \"Estrangeira\":\"EST\", \"Apátrida\":\"APA\", \"Total\":\"TOTAL\"})\n",
    "nac01[\"FREGUESIA\"] = nac01[\"FREGUESIA\"].map(corr)\n",
    "\n",
    "ele21 = pd.read_excel(\"dados/MAI/BDRE_Contagem_Eleitores_20211231.xlsx\", sheet_name=\"Freguesia_Consulado\", converters={'Código':str, \"NAC\":int, \"UE\": int, \"ER\":int,\"TOTAL\":int}).rename(columns={\"Código\":\"FREGUESIA\"}).set_index(\"FREGUESIA\")\n",
    "ele11 = pd.read_excel(\"dados/MAI/BDRE_Contagem_Eleitores_20111231.xls\", sheet_name=\"Freguesia_Consulado\", converters={'Código':str, \"NAC\":int, \"UE\": int, \"ER\":int,\"TOTAL\":int}).rename(columns={\"Código\":\"FREGUESIA\"})\n",
    "ele11[\"FREGUESIA\"] = ele11[\"FREGUESIA\"].map(corr)\n",
    "ele11 = ele11[ele11[\"Nac\"]>0]\n",
    "ele11 = ele11.groupby('FREGUESIA').agg({'Nome': 'first', 'Nac': 'sum', 'UE': 'sum', 'ER': 'sum', 'CNREUE': 'sum', 'CNRE':'sum', \"TOTAL\":'sum'})\n",
    "\n",
    "ele21 = ele21.drop([\"Distrito/Ilha/Continente > Concelho/País > Freguesia/Consulado\", \"UE\", \"ER\"], axis=1)\n",
    "ele21 = ele21.rename(columns={\"TOTAL\":\"TOTAL_MAI_21\", \"NAC\":\"PT_MAI_21\"})\n",
    "ele11 = ele11.drop([\"Nome\", \"UE\", \"ER\", \"CNREUE\", \"CNRE\"], axis=1)\n",
    "ele11 = ele11.rename(columns={\"TOTAL\":\"TOTAL_MAI_11\", \"Nac\":\"PT_MAI_11\"})"
   ]
  },
  {
   "cell_type": "code",
   "execution_count": 108,
   "id": "07a11414",
   "metadata": {},
   "outputs": [
    {
     "data": {
      "text/plain": [
       "set()"
      ]
     },
     "execution_count": 108,
     "metadata": {},
     "output_type": "execute_result"
    }
   ],
   "source": [
    "set(nac21[\"FREGUESIA\"]) - set(nac01[\"FREGUESIA\"])"
   ]
  },
  {
   "cell_type": "code",
   "execution_count": 109,
   "id": "1bac6ee7",
   "metadata": {},
   "outputs": [
    {
     "data": {
      "text/plain": [
       "set()"
      ]
     },
     "execution_count": 109,
     "metadata": {},
     "output_type": "execute_result"
    }
   ],
   "source": [
    "set(ele11.index) - set(nac01[\"FREGUESIA\"])"
   ]
  },
  {
   "cell_type": "code",
   "execution_count": 101,
   "id": "5c4b6367",
   "metadata": {},
   "outputs": [
    {
     "data": {
      "text/html": [
       "<div>\n",
       "<style scoped>\n",
       "    .dataframe tbody tr th:only-of-type {\n",
       "        vertical-align: middle;\n",
       "    }\n",
       "\n",
       "    .dataframe tbody tr th {\n",
       "        vertical-align: top;\n",
       "    }\n",
       "\n",
       "    .dataframe thead th {\n",
       "        text-align: right;\n",
       "    }\n",
       "</style>\n",
       "<table border=\"1\" class=\"dataframe\">\n",
       "  <thead>\n",
       "    <tr style=\"text-align: right;\">\n",
       "      <th></th>\n",
       "      <th>PT_MAI_11</th>\n",
       "      <th>TOTAL_MAI_11</th>\n",
       "    </tr>\n",
       "    <tr>\n",
       "      <th>FREGUESIA</th>\n",
       "      <th></th>\n",
       "      <th></th>\n",
       "    </tr>\n",
       "  </thead>\n",
       "  <tbody>\n",
       "    <tr>\n",
       "      <th>010103</th>\n",
       "      <td>3694</td>\n",
       "      <td>3694</td>\n",
       "    </tr>\n",
       "    <tr>\n",
       "      <th>010109</th>\n",
       "      <td>2850</td>\n",
       "      <td>2852</td>\n",
       "    </tr>\n",
       "    <tr>\n",
       "      <th>010112</th>\n",
       "      <td>3129</td>\n",
       "      <td>3134</td>\n",
       "    </tr>\n",
       "    <tr>\n",
       "      <th>010119</th>\n",
       "      <td>4461</td>\n",
       "      <td>4463</td>\n",
       "    </tr>\n",
       "    <tr>\n",
       "      <th>010121</th>\n",
       "      <td>12379</td>\n",
       "      <td>12386</td>\n",
       "    </tr>\n",
       "  </tbody>\n",
       "</table>\n",
       "</div>"
      ],
      "text/plain": [
       "           PT_MAI_11  TOTAL_MAI_11\n",
       "FREGUESIA                         \n",
       "010103          3694          3694\n",
       "010109          2850          2852\n",
       "010112          3129          3134\n",
       "010119          4461          4463\n",
       "010121         12379         12386"
      ]
     },
     "execution_count": 101,
     "metadata": {},
     "output_type": "execute_result"
    }
   ],
   "source": []
  },
  {
   "cell_type": "code",
   "execution_count": null,
   "id": "ae52b8ec",
   "metadata": {},
   "outputs": [],
   "source": []
  }
 ],
 "metadata": {
  "kernelspec": {
   "display_name": "Python 3 (ipykernel)",
   "language": "python",
   "name": "python3"
  },
  "language_info": {
   "codemirror_mode": {
    "name": "ipython",
    "version": 3
   },
   "file_extension": ".py",
   "mimetype": "text/x-python",
   "name": "python",
   "nbconvert_exporter": "python",
   "pygments_lexer": "ipython3",
   "version": "3.11.3"
  }
 },
 "nbformat": 4,
 "nbformat_minor": 5
}
